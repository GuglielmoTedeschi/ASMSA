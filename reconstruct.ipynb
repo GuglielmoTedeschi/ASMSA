{
 "cells": [
  {
   "cell_type": "code",
   "execution_count": null,
   "id": "1aa28469-d6ee-4b2d-8268-e294041f3b43",
   "metadata": {},
   "outputs": [],
   "source": [
    "import asmsa\n",
    "import mdtraj as md\n",
    "import nglview as nv\n",
    "import numpy as np"
   ]
  },
  {
   "cell_type": "code",
   "execution_count": null,
   "id": "379c8184-9e4d-4b8a-a714-f1acbb1d2aa4",
   "metadata": {},
   "outputs": [],
   "source": [
    "%pip install DFO-LS"
   ]
  },
  {
   "cell_type": "code",
   "execution_count": null,
   "id": "21da0e3a-4fae-4825-9262-78c1462dc3b2",
   "metadata": {},
   "outputs": [],
   "source": [
    "import dfols"
   ]
  },
  {
   "cell_type": "code",
   "execution_count": null,
   "id": "19e6b9ad-0462-4aa3-b847-c4adeb0f7fbe",
   "metadata": {},
   "outputs": [],
   "source": [
    "conf = \"trpcage_correct.pdb\"\n",
    "topol = \"topol_correct.top\"\n",
    "index = 'index_correct.ndx'"
   ]
  },
  {
   "cell_type": "code",
   "execution_count": null,
   "id": "a6a06f60-3791-4f12-8f07-f5bcd8eee09a",
   "metadata": {},
   "outputs": [],
   "source": [
    "# outputs of prepare.ipynb\n",
    "\n",
    "#train_tr = md.load('x_train.xtc',top=conf)\n",
    "#test_tr = md.load('x_test.xtc',top=conf)\n",
    "\n",
    "train_tr = md.load('train.xtc',top=conf)\n",
    "test_tr = md.load('test.xtc',top=conf)"
   ]
  },
  {
   "cell_type": "code",
   "execution_count": null,
   "id": "03926d18-1a73-41c3-9c27-cc21ac2a506a",
   "metadata": {},
   "outputs": [],
   "source": [
    "train_g = np.moveaxis(train_tr.xyz,0,-1)\n",
    "test_g = np.moveaxis(test_tr.xyz,0,-1)"
   ]
  },
  {
   "cell_type": "code",
   "execution_count": null,
   "id": "3c4d1412-192e-456f-a7ee-d266161cd4f3",
   "metadata": {},
   "outputs": [],
   "source": [
    "train_g.shape"
   ]
  },
  {
   "cell_type": "code",
   "execution_count": null,
   "id": "a989797d-4fa5-4b26-9727-015a6709460e",
   "metadata": {},
   "outputs": [],
   "source": [
    "sparse_dists = asmsa.NBDistancesSparse(train_g.shape[0], density=2)\n",
    "mol = asmsa.Molecule(pdb=conf,top=topol,ndx=index,fms=[sparse_dists])"
   ]
  },
  {
   "cell_type": "code",
   "execution_count": null,
   "id": "35704c30-55b3-4677-beb7-4358ecaf5d8e",
   "metadata": {},
   "outputs": [],
   "source": [
    "train_int = mol.intcoord(train_g)\n",
    "train_int.shape"
   ]
  },
  {
   "cell_type": "code",
   "execution_count": null,
   "id": "6cb6b80b-e7da-448f-8982-2d36eb93d7cd",
   "metadata": {},
   "outputs": [],
   "source": [
    "test_int = mol.intcoord(test_g)\n",
    "test_int.shape"
   ]
  },
  {
   "cell_type": "code",
   "execution_count": null,
   "id": "dc4cc5bb-b1eb-4adc-830b-503f0b49c596",
   "metadata": {},
   "outputs": [],
   "source": [
    "# faking ... true output of decoder predicting something should come here\n",
    "\n",
    "out_idx = 100\n",
    "\n",
    "dec_out = test_int[:,out_idx]\n",
    "dec_out.shape"
   ]
  },
  {
   "cell_type": "code",
   "execution_count": null,
   "id": "085c400e-1a99-4059-8cd8-718b470f459d",
   "metadata": {},
   "outputs": [],
   "source": [
    "diff = train_int.T - dec_out\n",
    "msd = np.sum(diff * diff,axis=1)"
   ]
  },
  {
   "cell_type": "code",
   "execution_count": null,
   "id": "5d47de5e-7ad0-409c-bdca-48d236d96b6f",
   "metadata": {},
   "outputs": [],
   "source": [
    "minidx = np.argmin(msd)\n",
    "x0 = train_g[:,:,minidx].flatten()"
   ]
  },
  {
   "cell_type": "code",
   "execution_count": null,
   "id": "7e5865ad-368d-4425-8bfe-f33d954074b7",
   "metadata": {},
   "outputs": [],
   "source": [
    "def minf(x,target,mol):\n",
    "    x_ = np.reshape(x,(-1,3,1))\n",
    "    int = np.reshape(mol.intcoord(x_),(-1,))\n",
    "    return int-target"
   ]
  },
  {
   "cell_type": "code",
   "execution_count": null,
   "id": "116efae9-abb0-4e8a-89ac-9fb63f046297",
   "metadata": {},
   "outputs": [],
   "source": [
    "sol = dfols.solve(minf,x0,args=(dec_out,mol),maxfun=5000)"
   ]
  },
  {
   "cell_type": "code",
   "execution_count": null,
   "id": "6d5531d7-6fca-4726-af74-344f909a675c",
   "metadata": {},
   "outputs": [],
   "source": [
    "solm = md.load_pdb(conf)\n",
    "solm.xyz = np.reshape(sol.x,(1,-1,3))\n",
    "#solm.xyz = np.reshape(x0,(1,-1,3))\n",
    "v = nv.show_mdtraj(solm)\n",
    "\n",
    "refm = md.load_pdb(conf)\n",
    "refm.xyz = test_g[:,:,out_idx]\n",
    "\n",
    "v.add_component(refm,color='red')\n",
    "v.clear(component=0)\n",
    "v.clear(component=1)\n",
    "\n",
    "v.add_representation('ribbon',component=1)\n",
    "v.add_representation('licorice',component=0)\n",
    "\n",
    "v"
   ]
  },
  {
   "cell_type": "code",
   "execution_count": null,
   "id": "a39edabe-b1a4-4767-9828-09bb9c0e7c05",
   "metadata": {},
   "outputs": [],
   "source": [
    "test_g.shape"
   ]
  },
  {
   "cell_type": "code",
   "execution_count": null,
   "id": "49aea5e3-ffc6-467d-bd40-bf2363509817",
   "metadata": {},
   "outputs": [],
   "source": []
  }
 ],
 "metadata": {
  "kernelspec": {
   "display_name": "Python 3 (ipykernel)",
   "language": "python",
   "name": "python3"
  },
  "language_info": {
   "codemirror_mode": {
    "name": "ipython",
    "version": 3
   },
   "file_extension": ".py",
   "mimetype": "text/x-python",
   "name": "python",
   "nbconvert_exporter": "python",
   "pygments_lexer": "ipython3",
   "version": "3.10.11"
  }
 },
 "nbformat": 4,
 "nbformat_minor": 5
}
