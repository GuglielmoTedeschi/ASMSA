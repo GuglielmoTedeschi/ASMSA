{
 "cells": [
  {
   "cell_type": "code",
   "execution_count": null,
   "id": "1aa28469-d6ee-4b2d-8268-e294041f3b43",
   "metadata": {},
   "outputs": [],
   "source": [
    "import asmsa\n",
    "import mdtraj as md\n",
    "import nglview as nv\n",
    "import numpy as np"
   ]
  },
  {
   "cell_type": "code",
   "execution_count": null,
   "id": "19e6b9ad-0462-4aa3-b847-c4adeb0f7fbe",
   "metadata": {},
   "outputs": [],
   "source": [
    "conf = \"trpcage_correct.pdb\"\n",
    "topol = \"topol_correct.top\"\n",
    "index = 'index_correct.ndx'\n",
    "gro = 'trpcage_correct.gro'"
   ]
  },
  {
   "cell_type": "code",
   "execution_count": null,
   "id": "a6a06f60-3791-4f12-8f07-f5bcd8eee09a",
   "metadata": {},
   "outputs": [],
   "source": [
    "# outputs of prepare.ipynb\n",
    "\n",
    "#train_tr = md.load('x_train.xtc',top=conf)\n",
    "#test_tr = md.load('x_test.xtc',top=conf)\n",
    "\n",
    "train_tr = md.load('train.xtc',top=conf)\n",
    "test_tr = md.load('test.xtc',top=conf)"
   ]
  },
  {
   "cell_type": "code",
   "execution_count": null,
   "id": "03926d18-1a73-41c3-9c27-cc21ac2a506a",
   "metadata": {},
   "outputs": [],
   "source": [
    "train_g = np.moveaxis(train_tr.xyz,0,-1)\n",
    "test_g = np.moveaxis(test_tr.xyz,0,-1)"
   ]
  },
  {
   "cell_type": "code",
   "execution_count": null,
   "id": "3c4d1412-192e-456f-a7ee-d266161cd4f3",
   "metadata": {},
   "outputs": [],
   "source": [
    "train_g.shape"
   ]
  },
  {
   "cell_type": "code",
   "execution_count": null,
   "id": "a989797d-4fa5-4b26-9727-015a6709460e",
   "metadata": {},
   "outputs": [],
   "source": [
    "sparse_dists = asmsa.NBDistancesSparse(train_g.shape[0], density=2)\n",
    "mol = asmsa.Molecule(pdb=conf,top=topol,ndx=index,fms=[sparse_dists])"
   ]
  },
  {
   "cell_type": "code",
   "execution_count": null,
   "id": "35704c30-55b3-4677-beb7-4358ecaf5d8e",
   "metadata": {},
   "outputs": [],
   "source": [
    "train_int = mol.intcoord(train_g)\n",
    "train_int.shape"
   ]
  },
  {
   "cell_type": "code",
   "execution_count": null,
   "id": "6cb6b80b-e7da-448f-8982-2d36eb93d7cd",
   "metadata": {},
   "outputs": [],
   "source": [
    "test_int = mol.intcoord(test_g)\n",
    "test_int.shape"
   ]
  },
  {
   "cell_type": "code",
   "execution_count": null,
   "id": "dc4cc5bb-b1eb-4adc-830b-503f0b49c596",
   "metadata": {},
   "outputs": [],
   "source": [
    "# faking ... true output of decoder predicting something should come here\n",
    "\n",
    "out_idx = 100\n",
    "\n",
    "dec_out = test_int[:,out_idx]\n",
    "dec_out.shape"
   ]
  },
  {
   "cell_type": "code",
   "execution_count": null,
   "id": "085c400e-1a99-4059-8cd8-718b470f459d",
   "metadata": {},
   "outputs": [],
   "source": [
    "diff = train_int.T - dec_out\n",
    "msd = np.sum(diff * diff,axis=1)"
   ]
  },
  {
   "cell_type": "code",
   "execution_count": null,
   "id": "5d47de5e-7ad0-409c-bdca-48d236d96b6f",
   "metadata": {},
   "outputs": [],
   "source": [
    "minidx = np.argmin(msd)"
   ]
  },
  {
   "cell_type": "code",
   "execution_count": null,
   "id": "4ebfe027-47a4-4053-a71b-9be366e61bcd",
   "metadata": {},
   "outputs": [],
   "source": [
    "train_mean = np.loadtxt('datasets/intcoords/mean.txt',dtype=np.float32)\n",
    "train_scale = np.loadtxt('datasets/intcoords/scale.txt',dtype=np.float32)"
   ]
  },
  {
   "cell_type": "code",
   "execution_count": null,
   "id": "a3cfa128-ee10-46e1-b02b-58bc903dc953",
   "metadata": {},
   "outputs": [],
   "source": [
    "dec_out_scaled = dec_out * train_scale + train_mean"
   ]
  },
  {
   "cell_type": "code",
   "execution_count": null,
   "id": "e91c8399-4e5b-49bc-be93-a57ab654dacb",
   "metadata": {},
   "outputs": [],
   "source": [
    "# see train.ipynb\n",
    "grotr = md.load(gro)\n",
    "nhs = grotr.topology.select('element != H')\n",
    "\n",
    "with open(index) as f:\n",
    "    f.readline()\n",
    "    ndx = np.fromstring(\" \".join(f),dtype=np.int32,sep=' ')-1\n",
    "\n",
    "pdb2gmx = nhs[np.argsort(ndx)]+1\n"
   ]
  },
  {
   "cell_type": "code",
   "execution_count": null,
   "id": "09e7de53-8b63-459a-b59e-60097dde07d6",
   "metadata": {},
   "outputs": [],
   "source": [
    "pdb2gmx"
   ]
  },
  {
   "cell_type": "code",
   "execution_count": null,
   "id": "b806c27e-526a-4524-a640-be093145a2ba",
   "metadata": {},
   "outputs": [],
   "source": [
    "import gromacs as gmx"
   ]
  },
  {
   "cell_type": "code",
   "execution_count": null,
   "id": "db86d864-e1c9-4735-8d4f-bd3431ff0b97",
   "metadata": {},
   "outputs": [],
   "source": [
    "mintr = train_tr[minidx]\n",
    "mintr.save('min.pdb')"
   ]
  },
  {
   "cell_type": "code",
   "execution_count": null,
   "id": "6a9ae670-324d-4317-b6ee-9266d5acf80e",
   "metadata": {},
   "outputs": [],
   "source": [
    "ompthreads=2\n",
    "mpiranks=1"
   ]
  },
  {
   "cell_type": "code",
   "execution_count": null,
   "id": "4ce3c28d-94b1-4222-bc8f-c8b624fb53e1",
   "metadata": {},
   "outputs": [],
   "source": [
    "# Kubernetes deployment\n",
    "mdrunner=gmx.MDrunnerK8s()\n",
    "\n",
    "def mdrun(**kwargs):\n",
    "    mdrunner.run(pre={'cores':ompthreads*mpiranks,'gpus':1}, mdrunargs={**kwargs,'ntomp':ompthreads,'pin':'on'},ncores=mpiranks)"
   ]
  },
  {
   "cell_type": "code",
   "execution_count": null,
   "id": "46a8cb68-a2ee-4256-9162-3feaa806ee21",
   "metadata": {},
   "outputs": [],
   "source": [
    "# alternative local deployment\n",
    "mdrunner=gmx.run.MDrunner()\n",
    "\n",
    "# XXX: no MPI support so far\n",
    "def mdrun(**kwargs):\n",
    "    mdrunner.run(mdrunargs={**kwargs,'ntomp':ompthreads,'pin':'on'})"
   ]
  },
  {
   "cell_type": "code",
   "execution_count": null,
   "id": "e8bb7494-85cf-4388-92b8-f013b638a3b5",
   "metadata": {},
   "outputs": [],
   "source": [
    "gmx.pdb2gmx(f='min.pdb',o='min.gro',p='min.top',water='tip3p',ff='amber94')"
   ]
  },
  {
   "cell_type": "code",
   "execution_count": null,
   "id": "69a27e1d-383d-4916-b321-17d9c04b0add",
   "metadata": {},
   "outputs": [],
   "source": [
    "mdbox=2.0\n",
    "gmx.editconf(f='min.gro',o=\"min-box.gro\",c=True,d=str(mdbox),bt=\"dodecahedron\")"
   ]
  },
  {
   "cell_type": "code",
   "execution_count": null,
   "id": "79a5ada6-590a-42d2-b80d-cba1eae09e0e",
   "metadata": {},
   "outputs": [],
   "source": [
    "!cp min.top restrained.top\n",
    "\n",
    "off = mol.dihed4.shape[0]*2+mol.dihed9.shape[0]*2+mol.angles.shape[0]+mol.bonds.shape[0]\n",
    "\n",
    "dec_dist = dec_out_scaled[off:]\n",
    "\n",
    "\n",
    "with open('restrained.top','a') as t:\n",
    "    t.write('''\n",
    "[ distance_restraints ]\n",
    "''')\n",
    "    for i,d in enumerate(sparse_dists.bonds):\n",
    "        t.write(f'{pdb2gmx[d[0]]} {pdb2gmx[d[1]]} 1 {i} 2 {dec_dist[i]*.99} {dec_dist[i]*1.01} 42.0 10.0\\n')"
   ]
  },
  {
   "cell_type": "code",
   "execution_count": null,
   "id": "63dc1616-971a-4096-aea4-6d574bd38624",
   "metadata": {},
   "outputs": [],
   "source": [
    "with open('min.mdp','w') as m:\n",
    "    m.write('''\n",
    "integrator  = steep         ; Algorithm (steep = steepest descent minimization)\n",
    "emtol       = 1000.0        ; Stop minimization when the maximum force < 1000.0 kJ/mol/nm\n",
    "emstep      = 0.01          ; Minimization step size\n",
    "nsteps      = 50000         ; Maximum number of (minimization) steps to perform\n",
    "\n",
    "nstxout                 = 0         \n",
    "nstvout                 = 0         \n",
    "nstfout                 = 0         \n",
    "nstlog                  = 5\n",
    "nstxout-compressed      = 0\n",
    "\n",
    "; Parameters describing how to find the neighbors of each atom and how to calculate the interactions\n",
    "nstlist         = 1         ; Frequency to update the neighbor list and long range forces\n",
    "cutoff-scheme   = Verlet    ; Buffered neighbor searching\n",
    "ns_type         = grid      ; Method to determine neighbor list (simple, grid)\n",
    "coulombtype     = Cut-off   ; Treatment of long range electrostatic interactions\n",
    "rcoulomb        = 1.0       ; Short-range electrostatic cut-off\n",
    "rvdw            = 1.0       ; Short-range Van der Waals cut-off\n",
    "pbc             = xyz       ; Periodic Boundary Conditions in all 3 dimensions\n",
    "\n",
    "disre           = Simple\n",
    "''')"
   ]
  },
  {
   "cell_type": "code",
   "execution_count": null,
   "id": "a5f5fb2a-3741-4790-a4a9-300c25301d15",
   "metadata": {},
   "outputs": [],
   "source": [
    "gmx.grompp(f=\"min.mdp\",c=\"min-box.gro\",p='restrained.top',o=\"min.tpr\")"
   ]
  },
  {
   "cell_type": "code",
   "execution_count": null,
   "id": "e33821ba-a6e4-4d19-94d1-768e1fd422fe",
   "metadata": {},
   "outputs": [],
   "source": [
    "mdrun(deffnm=\"min\")"
   ]
  },
  {
   "cell_type": "code",
   "execution_count": null,
   "id": "5168f4f1-78f4-4c5e-bb1f-c5eb09688e35",
   "metadata": {},
   "outputs": [],
   "source": [
    "solm = md.load('min.gro')\n",
    "nhs = solm.topology.select('element != H')\n",
    "solm.atom_slice(nhs,inplace=True)\n",
    "v = nv.show_mdtraj(solm)\n",
    "\n",
    "refm = md.load_pdb(conf)\n",
    "refm.xyz = test_g[:,:,out_idx]\n",
    "refm.superpose(solm)\n",
    "\n",
    "v.add_component(refm)\n",
    "v.clear(component=0)\n",
    "v.clear(component=1)\n",
    "\n",
    "v.add_representation('licorice',color='green',component=1)\n",
    "v.add_representation('licorice',color='red',component=0)\n",
    "\n",
    "v"
   ]
  },
  {
   "cell_type": "code",
   "execution_count": null,
   "id": "bb6f1bf1-4318-4faf-bb98-5594d2a18da5",
   "metadata": {},
   "outputs": [],
   "source": []
  }
 ],
 "metadata": {
  "kernelspec": {
   "display_name": "Python 3 (ipykernel)",
   "language": "python",
   "name": "python3"
  },
  "language_info": {
   "codemirror_mode": {
    "name": "ipython",
    "version": 3
   },
   "file_extension": ".py",
   "mimetype": "text/x-python",
   "name": "python",
   "nbconvert_exporter": "python",
   "pygments_lexer": "ipython3",
   "version": "3.10.11"
  }
 },
 "nbformat": 4,
 "nbformat_minor": 5
}
