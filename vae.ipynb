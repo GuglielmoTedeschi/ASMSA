{
 "cells": [
  {
   "cell_type": "code",
   "execution_count": null,
   "id": "c3bb6358-51d5-4eb5-abf1-b42ee2445320",
   "metadata": {},
   "outputs": [],
   "source": [
    "import tensorflow as tf\n",
    "from tensorflow import keras as k\n",
    "import tensorflow_probability as tfp\n",
    "import numpy as np\n",
    "import math\n",
    "\n",
    "import matplotlib.pyplot as plt\n",
    "\n",
    "import asmsa"
   ]
  },
  {
   "cell_type": "code",
   "execution_count": null,
   "id": "01763401-3459-472a-ac67-c31808ff2ca1",
   "metadata": {},
   "outputs": [],
   "source": [
    "_default_hp = {\n",
    "    'activation' : 'gelu',\n",
    "    'ae_loss_fn': 'MeanSquaredError',\n",
    "    'optimizer': 'Adam',\n",
    "    'learning_rate' : 0.0002,\n",
    "    'kde_sigma': 0.01,\n",
    "    'kl_weight': 1.0,\n",
    "}\n",
    "\n",
    "@tf.function\n",
    "def _KDEProb(ref,qry,sigma=1.):\n",
    "    rsigma2 = -1./(2.*sigma*sigma)\n",
    "\n",
    "    refs = tf.concat([tf.slice(tf.shape(qry),[0],[1]),tf.shape(ref)],0)\n",
    "    qrys = tf.concat([tf.slice(tf.shape(ref),[0],[1]),tf.shape(qry)],0)\n",
    " \n",
    "    mref = tf.broadcast_to(ref,refs)\n",
    "    mqry = tf.broadcast_to(qry,qrys)\n",
    "    mqry = tf.transpose(mqry,[1,0,2]) # XXX: exactly 1D shape of latent space dim\n",
    "\n",
    "    dist2 = tf.math.reduce_sum(\n",
    "        tf.math.pow(mref-mqry,2),\n",
    "        axis=2\n",
    "    )\n",
    "    kdes = tf.exp(dist2 * rsigma2)\n",
    "    kde = tf.reduce_mean(kdes,axis=1)\\\n",
    "        * tf.math.pow(tf.constant(2.*math.pi), tf.cast(tf.shape(ref)[1],tf.float32) * -.5)\\\n",
    "        / sigma\n",
    "    return kde\n",
    "\n",
    "class VAEModel(k.models.Model):\n",
    "    def __init__(self,mol_shape,latent_dim=2,ae_layers=[64,32,8],\n",
    "                 prior=tfp.distributions.MultivariateNormalDiag(loc=[0.,0.]),hp=_default_hp):\n",
    "        \n",
    "        super().__init__()\n",
    "        self.hp = hp\n",
    "        self.latent_dim = latent_dim\n",
    "        self.prior = prior\n",
    "\n",
    "        inp = k.Input(shape = mol_shape)\n",
    "        out = inp\n",
    "\n",
    "        for i,n in enumerate(ae_layers):\n",
    "            out = k.layers.Dense(n,activation=hp['activation'],name=f'enc_{i}')(out)\n",
    "            out = k.layers.BatchNormalization(momentum=0.8,name=f'enc_bn_{i}')(out)\n",
    "\n",
    "        out = k.layers.Dense(latent_dim,name='enc_out')(out)\n",
    "        latent = out\n",
    "\n",
    "        for i,n in enumerate(reversed(ae_layers)):\n",
    "            out = k.layers.Dense(n,activation=hp['activation'],name=f'dec_{i}')(out)\n",
    "            out = k.layers.BatchNormalization(momentum=0.8,name=f'dec_bn_{i}')(out)\n",
    "\n",
    "        out = k.layers.Dense(mol_shape,activation=hp['activation'],name='dec_out')(out)\n",
    "\n",
    "        self.enc = k.Model(inputs=inp,outputs=latent)\n",
    "        self.dec = k.Model(inputs=latent,outputs=out)\n",
    "\n",
    "    def compile(self,optimizer=None,lossfn=k.losses.MeanSquaredError()):\n",
    "        if optimizer is None:\n",
    "            optimizer = self.hp['optimizer']\n",
    "\n",
    "        if isinstance(optimizer,str):\n",
    "            optimizer = k.optimizers.legacy.__dict__[optimizer]\n",
    "\n",
    "        super().compile(optimizer = optimizer(learning_rate=self.hp['learning_rate']))\n",
    "        self.ae_weights = self.enc.trainable_weights + self.dec.trainable_weights\n",
    "        self.lossfn = lossfn\n",
    "   \n",
    "    @tf.function\n",
    "    def train_step(self,batch):\n",
    "        prob_shift = 1e-15\n",
    "        \n",
    "        if isinstance(batch,tuple):\n",
    "            batch = batch[0]\n",
    "\n",
    "        with tf.GradientTape() as aetape:\n",
    "            out = self.dec(self.enc(batch))\n",
    "            loss = self.lossfn(batch,out)\n",
    "\n",
    "        ae_grad = aetape.gradient(loss,self.ae_weights)\n",
    "        self.optimizer.apply_gradients(zip(ae_grad,self.ae_weights))\n",
    "\n",
    "        prior_sample = self.prior.sample(tf.shape(batch)[0])\n",
    "        prior_mean = tf.reduce_mean(prior_sample,axis=0)\n",
    "        with tf.GradientTape() as kltape:\n",
    "            latent = self.enc(batch)\n",
    "            latent_mean = tf.reduce_mean(latent,axis=0)\n",
    "            latent_prior = latent_mean - prior_mean\n",
    "            mean_dist2 = tf.reduce_sum(latent_prior * latent_prior)\n",
    "#            tf.print(latent_mean, prior_mean, mean_dist2)\n",
    "            \n",
    "            both = tf.concat([latent,prior_sample],axis=0)\n",
    "            latent_prob = _KDEProb(latent,both,self.hp['kde_sigma']) + prob_shift\n",
    "            prior_prob = self.prior.prob(both) + prob_shift\n",
    "            kl = tf.reduce_mean(tf.math.log(latent_prob / prior_prob))\n",
    "            kl_loss = kl * kl * self.hp['kl_weight'] + mean_dist2\n",
    "\n",
    "        kl_grad = kltape.gradient(kl_loss,self.enc.trainable_weights)\n",
    "        self.optimizer.apply_gradients(zip(kl_grad,self.enc.trainable_weights))\n",
    "\n",
    "#        tf.print('\\nstep: ',kl)\n",
    "\n",
    "        return { 'AE loss' : loss, 'KL' : kl, 'mean distance' : mean_dist2}\n"
   ]
  },
  {
   "cell_type": "code",
   "execution_count": null,
   "id": "3e4b69d3-ec01-4f14-bc3f-919edf33bb9e",
   "metadata": {},
   "outputs": [],
   "source": []
  },
  {
   "cell_type": "code",
   "execution_count": null,
   "id": "a4d03aac-d454-42fb-b6e9-dcd4285a180a",
   "metadata": {},
   "outputs": [],
   "source": [
    "conf='alaninedipeptide_H.pdb'\n",
    "gro='aladip_H.gro'\n",
    "topol='aladip_H.top'\n",
    "index=None\n",
    "traj='alaninedipeptide_reduced.xtc'"
   ]
  },
  {
   "cell_type": "code",
   "execution_count": null,
   "id": "24aa63b1-8a6d-4f35-8726-919fed4a7d75",
   "metadata": {},
   "outputs": [],
   "source": [
    "import mdtraj as md\n",
    "import nglview as nv"
   ]
  },
  {
   "cell_type": "code",
   "execution_count": null,
   "id": "be8b8a63-888d-4e62-accd-5a3602533097",
   "metadata": {
    "scrolled": true
   },
   "outputs": [],
   "source": [
    "tr = md.load(traj,top=conf)\n",
    "idx=tr[0].top.select(\"name CA\")\n",
    "\n",
    "# for trivial cases like Ala-Ala, where superposing on CAs fails\n",
    "idx=tr[0].top.select(\"element != H\")\n",
    "\n",
    "tr.superpose(tr[0],atom_indices=idx)\n",
    "nv.show_mdtraj(tr)"
   ]
  },
  {
   "cell_type": "code",
   "execution_count": null,
   "id": "a0bd3113-94e0-47b6-b4ec-b075c576dbe1",
   "metadata": {},
   "outputs": [],
   "source": [
    "# gmx pdb2gmx -f alaninedipeptide_H.pdb -o aladip_H.gro -p aladip_H.top -n aladip_H.ndx -water tip3p -ff amber99 -ignh"
   ]
  },
  {
   "cell_type": "code",
   "execution_count": null,
   "id": "c6c483e1-70a1-4968-b526-51795a7554e5",
   "metadata": {},
   "outputs": [],
   "source": [
    "np.random.shuffle(tr.xyz)"
   ]
  },
  {
   "cell_type": "code",
   "execution_count": null,
   "id": "130f36d9-6466-49eb-b8cb-3d627cc0febb",
   "metadata": {},
   "outputs": [],
   "source": [
    "train = .7\n",
    "validation = .15\n",
    "test = .15\n",
    "\n",
    "assert train + validation + test == .9999999999999999 or 1\n",
    "\n",
    "tr_i = len(tr) * train\n",
    "X_train = tr.slice(slice(0,int(tr_i)))\n",
    "\n",
    "va_i = len(tr) * validation\n",
    "X_validate = tr.slice(slice(int(tr_i),int(tr_i)+int(va_i)))\n",
    "\n",
    "te_i = len(tr) * test\n",
    "X_test = tr.slice(slice(int(tr_i)+int(va_i),len(tr)))\n",
    "\n",
    "X_train.xyz.shape, X_validate.xyz.shape, X_test.xyz.shape"
   ]
  },
  {
   "cell_type": "code",
   "execution_count": null,
   "id": "b7924d18-7504-48a6-bebe-e8eb420190fc",
   "metadata": {},
   "outputs": [],
   "source": [
    "X_train.save_xtc('train.xtc')\n",
    "X_validate.save_xtc('validate.xtc')\n",
    "X_test.save_xtc('test.xtc')"
   ]
  },
  {
   "cell_type": "code",
   "execution_count": null,
   "id": "d03cb7b4-9d71-44aa-a7bc-83fbd6d37744",
   "metadata": {},
   "outputs": [],
   "source": [
    "trajs = [X_train, X_validate, X_test]\n",
    "geoms = []\n",
    "\n",
    "for i in range(len(trajs)):\n",
    "    geoms.append(np.moveaxis(trajs[i].xyz,0,-1))\n",
    "    print(geoms[i].shape)"
   ]
  },
  {
   "cell_type": "code",
   "execution_count": null,
   "id": "4c84bb2c-3745-4be3-bb76-ac3b246f8d4c",
   "metadata": {},
   "outputs": [],
   "source": [
    "tf.data.Dataset.from_tensor_slices(geoms[0]).save('datasets/geoms/train')\n",
    "tf.data.Dataset.from_tensor_slices(geoms[1]).save('datasets/geoms/validate')\n",
    "tf.data.Dataset.from_tensor_slices(geoms[2]).save('datasets/geoms/test')"
   ]
  },
  {
   "cell_type": "code",
   "execution_count": null,
   "id": "1fbb67a4-bf24-4b66-b3d2-77a75af35deb",
   "metadata": {},
   "outputs": [],
   "source": [
    "mols = []\n",
    "for i in range(len(geoms)):\n",
    "    sparse_dists = asmsa.NBDistancesDense(geoms[i].shape[0])\n",
    "    mols.append(asmsa.Molecule(pdb=conf,top=topol,ndx=index,fms=[sparse_dists]))\n"
   ]
  },
  {
   "cell_type": "code",
   "execution_count": null,
   "id": "935d1718-b78e-44e0-a4b1-dd37ca362b30",
   "metadata": {},
   "outputs": [],
   "source": [
    "intcoords = []\n",
    "for i in range(len(mols)):\n",
    "    intcoords.append(mols[i].intcoord(geoms[i]).T)\n",
    "    print(intcoords[i].shape)"
   ]
  },
  {
   "cell_type": "code",
   "execution_count": null,
   "id": "1f815dc6-96ab-43fa-9fea-eff18454a1b2",
   "metadata": {},
   "outputs": [],
   "source": [
    "tf.data.Dataset.from_tensor_slices(intcoords[0]).save('datasets/intcoords/train')\n",
    "tf.data.Dataset.from_tensor_slices(intcoords[1]).save('datasets/intcoords/validate')\n",
    "tf.data.Dataset.from_tensor_slices(intcoords[2]).save('datasets/intcoords/test')"
   ]
  },
  {
   "cell_type": "code",
   "execution_count": null,
   "id": "32450837-cf5e-4bd9-88eb-c08c389a9c4c",
   "metadata": {},
   "outputs": [],
   "source": [
    "[train,validate,test] = intcoords"
   ]
  },
  {
   "cell_type": "code",
   "execution_count": null,
   "id": "e6ff032a-9831-440b-bbda-e9f5defd1c6b",
   "metadata": {},
   "outputs": [],
   "source": [
    "train_batch = tf.data.Dataset.from_tensor_slices(train).batch(1024,drop_remainder=True)"
   ]
  },
  {
   "cell_type": "code",
   "execution_count": null,
   "id": "fb97a28c-608b-495f-a865-b2a3ba506da2",
   "metadata": {},
   "outputs": [],
   "source": [
    "class _Uniform2d:\n",
    "    def __init__(self,low=-1.,high=1):\n",
    "        self.low = tf.constant(low,tf.float32)\n",
    "        self.high = tf.constant(high,tf.float32)\n",
    "        self.density = 1./(self.high-self.low)**2\n",
    "        self.uniform = tfp.distributions.Uniform(low=low,high=high)\n",
    "\n",
    "    def prob(self,samples):\n",
    "        out = tf.broadcast_to(self.density,shape=[tf.shape(samples)[0]])\n",
    "        out *= tf.cast(samples[:,0] >= self.low,tf.float32)\n",
    "        out *= tf.cast(samples[:,0] <= self.high,tf.float32)\n",
    "        out *= tf.cast(samples[:,1] >= self.low,tf.float32)\n",
    "        out *= tf.cast(samples[:,1] <= self.high,tf.float32)\n",
    "        return out\n",
    "\n",
    "    def sample(self,n):\n",
    "        return self.uniform.sample([n,2])\n",
    "        \n",
    "        "
   ]
  },
  {
   "cell_type": "code",
   "execution_count": null,
   "id": "c6d782e2-edb6-4c6e-a60f-37ed08984339",
   "metadata": {},
   "outputs": [],
   "source": [
    "prior=tfp.distributions.MultivariateNormalDiag(loc=[0.,0.])\n",
    "# prior = _Uniform2d()\n",
    "mod=VAEModel(train.shape[1], \n",
    "            ae_layers=[16,8],\n",
    "            prior=prior)\n",
    "mod.compile()"
   ]
  },
  {
   "cell_type": "code",
   "execution_count": null,
   "id": "fcf17307-5409-44bb-b755-6f146654d85d",
   "metadata": {},
   "outputs": [],
   "source": [
    "mod.fit(train_batch,epochs=10)"
   ]
  },
  {
   "cell_type": "code",
   "execution_count": null,
   "id": "071bde88-ea70-45fe-b3be-f6d46d4e04e6",
   "metadata": {},
   "outputs": [],
   "source": [
    "lows = mod.enc(test).numpy()\n",
    "\n",
    "plt.scatter(lows[:,0],lows[:,1],marker='.')\n",
    "plt.show()"
   ]
  },
  {
   "cell_type": "code",
   "execution_count": null,
   "id": "29835f38-f32e-4fa5-bfb5-262a1b704d18",
   "metadata": {},
   "outputs": [],
   "source": [
    "rg = md.compute_rg(X_test)\n",
    "base = md.load(conf)\n",
    "rmsd = md.rmsd(X_test,base[0])\n",
    "cmap = plt.get_cmap('rainbow')\n",
    "plt.figure(figsize=(12,4))\n",
    "plt.subplot(121)\n",
    "plt.scatter(lows[:,0],lows[:,1],marker='.',c=rg,cmap=cmap)\n",
    "plt.colorbar(cmap=cmap)\n",
    "plt.title(\"Rg\")\n",
    "plt.subplot(122)\n",
    "plt.scatter(lows[:,0],lows[:,1],marker='.',c=rmsd,cmap=cmap)\n",
    "plt.colorbar(cmap=cmap)\n",
    "plt.title(\"RMSD\")\n",
    "plt.show()"
   ]
  },
  {
   "cell_type": "code",
   "execution_count": null,
   "id": "d712e548-5231-42e5-abb0-e5b620209c82",
   "metadata": {},
   "outputs": [],
   "source": [
    "plt.figure(figsize=(12,4))\n",
    "plt.subplot(121)\n",
    "dih=md.compute_dihedrals(X_test,np.array([[4,6,8,14],[6,8,14,16]]))\n",
    "plt.scatter(lows[:,0],lows[:,1],marker='.',c=dih[:,0],cmap=cmap)\n",
    "plt.colorbar(cmap=cmap)\n",
    "plt.subplot(122)\n",
    "plt.scatter(lows[:,0],lows[:,1],marker='.',c=dih[:,1],cmap=cmap)\n",
    "plt.colorbar(cmap=cmap)\n",
    "plt.show()"
   ]
  },
  {
   "cell_type": "code",
   "execution_count": null,
   "id": "101fe797-c3f5-4723-9739-038d746fceab",
   "metadata": {},
   "outputs": [],
   "source": [
    "lows.shape"
   ]
  },
  {
   "cell_type": "code",
   "execution_count": null,
   "id": "9a56c344-0d70-479f-9f12-29240e04496d",
   "metadata": {},
   "outputs": [],
   "source": [
    "lowbatch = train[:16384,:]\n",
    "p = _KDEProb(lowbatch,lowbatch,sigma=.01)"
   ]
  },
  {
   "cell_type": "code",
   "execution_count": null,
   "id": "2507f91c-49eb-4377-b47f-b39c6f766fd1",
   "metadata": {},
   "outputs": [],
   "source": [
    "prior=tfp.distributions.MultivariateNormalDiag(loc=[2.,0.])"
   ]
  },
  {
   "cell_type": "code",
   "execution_count": null,
   "id": "b04507c9-ca52-425d-b895-48463972b4aa",
   "metadata": {},
   "outputs": [],
   "source": [
    "tf.reduce_mean(tf.math.log(p)-prior.log_prob(lowbatch))"
   ]
  },
  {
   "cell_type": "code",
   "execution_count": null,
   "id": "eaf085d7-e09f-4c58-a393-be704632205d",
   "metadata": {},
   "outputs": [],
   "source": [
    "mod.dec.summary()"
   ]
  },
  {
   "cell_type": "code",
   "execution_count": null,
   "id": "214a76a0-25bf-4560-9e61-68fd137091c3",
   "metadata": {},
   "outputs": [],
   "source": [
    "norm = tfp.distributions.Normal(loc=0.,scale=1.)"
   ]
  },
  {
   "cell_type": "code",
   "execution_count": null,
   "id": "add4974b-aa47-474e-acc3-6e4383617a50",
   "metadata": {},
   "outputs": [],
   "source": [
    "n = 1000\n",
    "s=norm.sample(n)\n",
    "#s+=3"
   ]
  },
  {
   "cell_type": "code",
   "execution_count": null,
   "id": "74ec5d3d-dec1-4734-95bc-109934390311",
   "metadata": {},
   "outputs": [],
   "source": [
    "tf.reduce_mean(norm.log_prob(s))"
   ]
  },
  {
   "cell_type": "code",
   "execution_count": null,
   "id": "d0fbf7c8-3d4f-41b2-a32a-06bf47f724f7",
   "metadata": {},
   "outputs": [],
   "source": [
    "ss = np.sort(s.numpy())\n",
    "#plt.plot(ss)\n",
    "plt.plot(ss,norm.prob(ss))\n",
    "plt.show()"
   ]
  },
  {
   "cell_type": "code",
   "execution_count": null,
   "id": "e3868d68-e5f4-4fe5-8aef-71166dadf259",
   "metadata": {},
   "outputs": [],
   "source": [
    "tf.reduce_sum(norm.prob(ss))"
   ]
  },
  {
   "cell_type": "code",
   "execution_count": null,
   "id": "cb798422-3906-4ffb-a99f-85a26072df5d",
   "metadata": {},
   "outputs": [],
   "source": [
    "tf.shape(s)[0]"
   ]
  },
  {
   "cell_type": "code",
   "execution_count": null,
   "id": "8ded32b1-d270-4a3d-b1eb-21ddd9759786",
   "metadata": {},
   "outputs": [],
   "source": [
    "tf.broadcast_to(s,[2,*list(tf.shape(s).numpy())])"
   ]
  },
  {
   "cell_type": "code",
   "execution_count": null,
   "id": "ff48f286-3884-4780-bfb0-72caf83a42ec",
   "metadata": {},
   "outputs": [],
   "source": [
    "[2,*list(tf.shape(s).numpy())]"
   ]
  },
  {
   "cell_type": "code",
   "execution_count": null,
   "id": "a0bda1b7-7fdf-4b77-b8dd-a66d3121b4b1",
   "metadata": {},
   "outputs": [],
   "source": [
    "list(tf.shape(s).numpy())"
   ]
  },
  {
   "cell_type": "code",
   "execution_count": null,
   "id": "6f652353-a349-4fd0-9e3f-476d8dd0977c",
   "metadata": {},
   "outputs": [],
   "source": [
    "tf.shape(s)[0].numpy()"
   ]
  },
  {
   "cell_type": "code",
   "execution_count": null,
   "id": "03ba67ef-aa20-459b-8511-381378f09393",
   "metadata": {},
   "outputs": [],
   "source": [
    "_KDEProb(tf.constant([[1,1],[4,4]],tf.float32),tf.constant([[1.1,1],[2.5,2.5],[8.,10.]],tf.float32))"
   ]
  },
  {
   "cell_type": "code",
   "execution_count": null,
   "id": "69b28f9c-66ee-433a-bd63-8635ec721f70",
   "metadata": {},
   "outputs": [],
   "source": [
    "ref=tf.constant([1,4],tf.float32)"
   ]
  },
  {
   "cell_type": "code",
   "execution_count": null,
   "id": "63c4bc1d-8032-4941-ae56-f5fe832222b4",
   "metadata": {},
   "outputs": [],
   "source": [
    "tf.slice(ref,[1],[1])"
   ]
  },
  {
   "cell_type": "code",
   "execution_count": null,
   "id": "3d2be6e7-5ee0-46c3-b357-69796162c8f9",
   "metadata": {},
   "outputs": [],
   "source": [
    "n=100\n",
    "g = tf.repeat([tf.linspace(tf.constant(-3,tf.float32),tf.constant(3,tf.float32),n)],n,axis=0)\n",
    "g = tf.reshape(tf.stack([g,tf.transpose(g)],axis=2),[n*n,2])"
   ]
  },
  {
   "cell_type": "code",
   "execution_count": null,
   "id": "a1a95135-ea87-43ff-aa07-fa2c18c7b8cc",
   "metadata": {},
   "outputs": [],
   "source": [
    "ref=tf.random.uniform(shape=[5,2],minval=-.05,maxval=.2)\n",
    "ref"
   ]
  },
  {
   "cell_type": "code",
   "execution_count": null,
   "id": "a4afa741-a5e6-4f38-a7be-27b7f9ce01f2",
   "metadata": {},
   "outputs": [],
   "source": [
    "tf.shape(ref)[1]"
   ]
  },
  {
   "cell_type": "code",
   "execution_count": null,
   "id": "881da7a3-8e0c-46fe-8d83-304cda92efb1",
   "metadata": {},
   "outputs": [],
   "source": [
    "plt.scatter(ref[:,0],ref[:,1])\n",
    "plt.show()"
   ]
  },
  {
   "cell_type": "code",
   "execution_count": null,
   "id": "60daf852-cb5b-46b2-bd93-d14bfc4da5cb",
   "metadata": {},
   "outputs": [],
   "source": [
    "p = _KDEProb(tf.constant([[1,1],[4,4.5],[1.2,3.3]],tf.float32),g,sigma=1)\n",
    "p = _KDEProb(ref,g,sigma=2.)\n",
    "p = _KDEProb(tf.constant([[0,0],[0,2]],tf.float32),g,sigma=.8)\n"
   ]
  },
  {
   "cell_type": "code",
   "execution_count": null,
   "id": "032b466d-3fb1-48e8-8057-a33cfb66ca10",
   "metadata": {},
   "outputs": [],
   "source": [
    "plt.imshow(tf.reshape(p,[n,n]))\n",
    "plt.colorbar()\n",
    "plt.show()"
   ]
  },
  {
   "cell_type": "code",
   "execution_count": null,
   "id": "1704d9fe-836c-46e7-ac5e-ca830b76e837",
   "metadata": {},
   "outputs": [],
   "source": [
    "mnorm = tfp.distributions.MultivariateNormalDiag(loc=[0.,0.])"
   ]
  },
  {
   "cell_type": "code",
   "execution_count": null,
   "id": "0ba80062-6fd3-4e9c-b1fe-4cce8a827fa9",
   "metadata": {},
   "outputs": [],
   "source": [
    "plt.scatter(g[:,0],g[:,1],c=mnorm.prob(g))\n",
    "plt.colorbar()\n",
    "plt.show()"
   ]
  },
  {
   "cell_type": "code",
   "execution_count": null,
   "id": "5722374c-6ce0-451a-9b56-215a5d02d8a4",
   "metadata": {},
   "outputs": [],
   "source": [
    "tf.reduce_mean(tf.math.log(p)-mnorm.log_prob(g))\n",
    "#tf.math.log(p)\n",
    "#p\n",
    "#mnorm.log_prob(g)"
   ]
  },
  {
   "cell_type": "code",
   "execution_count": null,
   "id": "b68872fc-55dc-42be-b43a-3adae1337494",
   "metadata": {},
   "outputs": [],
   "source": [
    "plt.plot(p)\n",
    "plt.plot(mnorm.prob(g))\n",
    "plt.show()"
   ]
  },
  {
   "cell_type": "code",
   "execution_count": null,
   "id": "c1b5d2e6-200f-4529-a1df-e813dce148b5",
   "metadata": {},
   "outputs": [],
   "source": [
    "s=mnorm.sample(10000)\n",
    "p=mnorm.prob(s)\n",
    "plt.scatter(s[:,0],s[:,1],c=p)\n",
    "plt.show()"
   ]
  },
  {
   "cell_type": "code",
   "execution_count": null,
   "id": "9a9c1c62-1bc5-4205-8ce5-3f3b99ef91f7",
   "metadata": {},
   "outputs": [],
   "source": [
    "nn=1000\n",
    "ref=tf.random.uniform(shape=[nn,2],minval=-.05,maxval=.05)"
   ]
  },
  {
   "cell_type": "code",
   "execution_count": null,
   "id": "35df6c17-2661-49e1-b03d-2ee4f037fbd0",
   "metadata": {},
   "outputs": [],
   "source": [
    "mnorm = tfp.distributions.MultivariateNormalDiag(loc=[0.2,0.])"
   ]
  },
  {
   "cell_type": "code",
   "execution_count": null,
   "id": "9b17d6e7-f5c8-4774-aef4-857aaf7889ea",
   "metadata": {},
   "outputs": [],
   "source": [
    "p = _KDEProb(ref,ref,sigma=1)"
   ]
  },
  {
   "cell_type": "code",
   "execution_count": null,
   "id": "8befa183-dfe7-4fea-993a-b31b598d3988",
   "metadata": {},
   "outputs": [],
   "source": [
    "plt.scatter(ref[:,0],ref[:,1],c=p)\n",
    "plt.colorbar()\n",
    "plt.show()"
   ]
  },
  {
   "cell_type": "code",
   "execution_count": null,
   "id": "a8c0f163-9416-4b9e-b51d-a99d0f57afd1",
   "metadata": {},
   "outputs": [],
   "source": [
    "tf.reduce_mean(tf.math.log(p)-mnorm.log_prob(ref))"
   ]
  },
  {
   "cell_type": "code",
   "execution_count": null,
   "id": "956cd2bf-8f82-4bf0-8c30-3d79dbba1e5c",
   "metadata": {},
   "outputs": [],
   "source": []
  },
  {
   "cell_type": "code",
   "execution_count": null,
   "id": "22d96da7-1b24-49b9-b143-5410780d918a",
   "metadata": {},
   "outputs": [],
   "source": [
    "a=np.array([[1,2,3],[4,5,6]])"
   ]
  },
  {
   "cell_type": "code",
   "execution_count": null,
   "id": "927d7cd8-8179-4b9d-a2c6-5d7566185879",
   "metadata": {},
   "outputs": [],
   "source": [
    "np.random.shuffle(a)\n",
    "a"
   ]
  },
  {
   "cell_type": "code",
   "execution_count": null,
   "id": "6fb661df-e8d5-42d9-a709-26eecac73a38",
   "metadata": {},
   "outputs": [],
   "source": [
    "tr.xyz.shape"
   ]
  },
  {
   "cell_type": "code",
   "execution_count": null,
   "id": "d618509d-4018-48d0-a2fe-988a03e207b2",
   "metadata": {},
   "outputs": [],
   "source": [
    "pb = _KDEProb(mod.enc(lowbatch),g,sigma=_default_hp['kde_sigma'])\n",
    "plt.imshow(tf.reshape(pb,[n,n]))\n",
    "plt.colorbar()\n",
    "plt.show()"
   ]
  },
  {
   "cell_type": "code",
   "execution_count": null,
   "id": "60ebc06e-6bb2-49f8-a2a0-27b4ca1c9c0b",
   "metadata": {},
   "outputs": [],
   "source": [
    "pp = prior.prob(g)\n",
    "plt.imshow(tf.reshape(pp,[n,n]))\n",
    "plt.colorbar()\n",
    "plt.show()"
   ]
  },
  {
   "cell_type": "code",
   "execution_count": null,
   "id": "18424e5a-0f6a-4dcf-b02e-1655bafcae16",
   "metadata": {},
   "outputs": [],
   "source": [
    "tf.reduce_mean(tf.math.log(tf.cast(pb,tf.float64))-tf.math.log(tf.cast(pp,tf.float64)))"
   ]
  },
  {
   "cell_type": "code",
   "execution_count": null,
   "id": "08ddc13c-621f-42ca-a5f5-a1ffe2516de3",
   "metadata": {},
   "outputs": [],
   "source": [
    "l=mod.enc(lowbatch)\n",
    "pm=_KDEProb(l,l,sigma=_default_hp['kde_sigma'])\n",
    "tf.reduce_mean(tf.math.log(pm)-prior.log_prob(l))"
   ]
  },
  {
   "cell_type": "code",
   "execution_count": null,
   "id": "ba84cdc8-33b9-4d98-81af-78bfb337d42c",
   "metadata": {},
   "outputs": [],
   "source": [
    "prior.sample(10)"
   ]
  },
  {
   "cell_type": "code",
   "execution_count": null,
   "id": "8ea12192-dddc-4d99-bc9f-260f54ec8f98",
   "metadata": {},
   "outputs": [],
   "source": [
    "tf.constant(1.14,shape=(2,2))"
   ]
  },
  {
   "cell_type": "code",
   "execution_count": null,
   "id": "fba40ca0-7fb0-4b05-9d57-34501679cce9",
   "metadata": {},
   "outputs": [],
   "source": []
  }
 ],
 "metadata": {
  "kernelspec": {
   "display_name": "Python 3 (ipykernel)",
   "language": "python",
   "name": "python3"
  },
  "language_info": {
   "codemirror_mode": {
    "name": "ipython",
    "version": 3
   },
   "file_extension": ".py",
   "mimetype": "text/x-python",
   "name": "python",
   "nbconvert_exporter": "python",
   "pygments_lexer": "ipython3",
   "version": "3.8.18"
  }
 },
 "nbformat": 4,
 "nbformat_minor": 5
}
