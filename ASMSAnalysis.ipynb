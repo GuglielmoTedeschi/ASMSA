{
 "cells": [
  {
   "cell_type": "code",
   "execution_count": null,
   "id": "1e0f2c6c-4b12-4df1-89e2-dc7add2b13e8",
   "metadata": {},
   "outputs": [],
   "source": [
    "#avoid TF to consume GPU memory\n",
    "import tensorflow as tf\n",
    "tf.config.set_visible_devices([], 'GPU')\n",
    "tf.config.list_logical_devices()\n",
    "\n",
    "import ASMSAnalysis"
   ]
  },
  {
   "cell_type": "code",
   "execution_count": null,
   "id": "77df0315-0892-4198-a440-4a5bed0b103c",
   "metadata": {},
   "outputs": [],
   "source": [
    "conf = \".pdb\"\n",
    "traj = \".xtc\"\n",
    "hills = \"HILLS\"\n",
    "lows_filename = \".txt\"\n",
    "\n",
    "analysis = ASMSAnalysis.Analysis(conf,traj,hills,lows_filename)"
   ]
  },
  {
   "cell_type": "code",
   "execution_count": null,
   "id": "fa285778-0777-445a-80fd-cba31e4a2466",
   "metadata": {},
   "outputs": [],
   "source": [
    "analysis.on_the_flight(interval=60)"
   ]
  },
  {
   "cell_type": "code",
   "execution_count": null,
   "id": "442b6544-6dcd-4473-8171-06ccd6e0d893",
   "metadata": {
    "scrolled": true
   },
   "outputs": [],
   "source": [
    "analysis.rmsd()"
   ]
  },
  {
   "cell_type": "code",
   "execution_count": null,
   "id": "70074c56-46ff-4eb6-b865-2239d5c63cf4",
   "metadata": {},
   "outputs": [],
   "source": [
    "analysis.highlights_and_dynamic()"
   ]
  },
  {
   "cell_type": "code",
   "execution_count": null,
   "id": "b82726b3-8c0c-405e-a916-dd052e3a3e22",
   "metadata": {},
   "outputs": [],
   "source": [
    "import metadynminer as m"
   ]
  },
  {
   "cell_type": "code",
   "execution_count": null,
   "id": "bc85f096-99fd-4ac7-8c47-108ed1d62b66",
   "metadata": {},
   "outputs": [],
   "source": [
    "hf = m.Hills(name=\"HILLS\")"
   ]
  },
  {
   "cell_type": "code",
   "execution_count": null,
   "id": "f184dc54-1d35-4d28-a6b8-726fbd01143e",
   "metadata": {},
   "outputs": [],
   "source": [
    "fes = m.Fes(hf)"
   ]
  },
  {
   "cell_type": "code",
   "execution_count": null,
   "id": "0b604969-5421-4fc7-a355-751cf27eb5de",
   "metadata": {},
   "outputs": [],
   "source": [
    "fes.plot()"
   ]
  },
  {
   "cell_type": "code",
   "execution_count": null,
   "id": "b7eb4f0d-3317-4666-a629-a79349382d05",
   "metadata": {},
   "outputs": [],
   "source": [
    "minima = m.Minima(fes)\n",
    "print(minima.minima)\n",
    "minima.plot()"
   ]
  },
  {
   "cell_type": "code",
   "execution_count": null,
   "id": "d0960fa3-b6e9-4d20-95c2-3ad2adc63ea2",
   "metadata": {},
   "outputs": [],
   "source": [
    "fep = metadynminer.FEProfile(minima, hillsfile)\n",
    "fep.plot()"
   ]
  }
 ],
 "metadata": {
  "kernelspec": {
   "display_name": "Python 3 (ipykernel)",
   "language": "python",
   "name": "python3"
  },
  "language_info": {
   "codemirror_mode": {
    "name": "ipython",
    "version": 3
   },
   "file_extension": ".py",
   "mimetype": "text/x-python",
   "name": "python",
   "nbconvert_exporter": "python",
   "pygments_lexer": "ipython3",
   "version": "3.10.11"
  }
 },
 "nbformat": 4,
 "nbformat_minor": 5
}
