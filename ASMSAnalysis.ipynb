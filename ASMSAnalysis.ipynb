{
 "cells": [
  {
   "cell_type": "code",
   "execution_count": null,
   "id": "1e0f2c6c-4b12-4df1-89e2-dc7add2b13e8",
   "metadata": {},
   "outputs": [],
   "source": [
    "import ASMSAnalysis"
   ]
  },
  {
   "cell_type": "code",
   "execution_count": null,
   "id": "77df0315-0892-4198-a440-4a5bed0b103c",
   "metadata": {},
   "outputs": [],
   "source": [
    "conf = \"trpcage_npt400_nH.pdb\"\n",
    "traj = \"trpcage_ds_nH.xtc\"\n",
    "hills = \"HILLS\"\n",
    "lows_filename = \"model.txt\"\n",
    "\n",
    "analysis = ASMSAnalysis.Analysis(conf,traj,hills,lows_filename)"
   ]
  },
  {
   "cell_type": "code",
   "execution_count": null,
   "id": "fa285778-0777-445a-80fd-cba31e4a2466",
   "metadata": {},
   "outputs": [],
   "source": [
    "analysis.on_the_flight(interval=60)"
   ]
  },
  {
   "cell_type": "code",
   "execution_count": null,
   "id": "442b6544-6dcd-4473-8171-06ccd6e0d893",
   "metadata": {
    "scrolled": true
   },
   "outputs": [],
   "source": [
    "analysis.rmsd()"
   ]
  },
  {
   "cell_type": "code",
   "execution_count": null,
   "id": "688a3e49-d87b-479c-a391-c5a149de4214",
   "metadata": {},
   "outputs": [],
   "source": [
    "analysis.highlights(10000)"
   ]
  },
  {
   "cell_type": "code",
   "execution_count": null,
   "id": "254ff428-ac09-42ec-8722-e0e26bb88a10",
   "metadata": {
    "scrolled": true
   },
   "outputs": [],
   "source": [
    "analysis.look_dynamic()"
   ]
  },
  {
   "cell_type": "code",
   "execution_count": null,
   "id": "119a1244-ede8-4509-80de-587f46ef4c88",
   "metadata": {},
   "outputs": [],
   "source": [
    "import numpy as np\n",
    "import matplotlib.pyplot as plt\n",
    "\n",
    "new_hills = np.loadtxt('HILLS')\n",
    "cv1, cv2 = new_hills[:, 1], new_hills[:, 2] \n",
    "\n",
    "time = 190\n",
    "\n",
    "f1 = int(time * 1000)\n",
    "\n",
    "\n",
    "plt.figure(figsize=(10, 5))\n",
    "plt.scatter(cv1, cv2, color='grey', marker='.', s=1)\n",
    "plt.scatter(cv1[0], cv2[0], color='blue', marker='X', s=25)\n",
    "plt.scatter(cv1[time], cv2[time], color='red', marker='X', s=25)\n",
    "plt.xlabel('CV1')\n",
    "plt.ylabel('CV2')\n",
    "plt.title(f'{time}th ns')\n",
    "plt.show()"
   ]
  },
  {
   "cell_type": "code",
   "execution_count": null,
   "id": "b82726b3-8c0c-405e-a916-dd052e3a3e22",
   "metadata": {},
   "outputs": [],
   "source": []
  }
 ],
 "metadata": {
  "kernelspec": {
   "display_name": "Python 3 (ipykernel)",
   "language": "python",
   "name": "python3"
  },
  "language_info": {
   "codemirror_mode": {
    "name": "ipython",
    "version": 3
   },
   "file_extension": ".py",
   "mimetype": "text/x-python",
   "name": "python",
   "nbconvert_exporter": "python",
   "pygments_lexer": "ipython3",
   "version": "3.10.11"
  }
 },
 "nbformat": 4,
 "nbformat_minor": 5
}
