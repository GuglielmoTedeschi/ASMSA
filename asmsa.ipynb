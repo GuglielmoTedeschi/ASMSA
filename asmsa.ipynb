{
 "cells": [
  {
   "cell_type": "markdown",
   "id": "aec42733",
   "metadata": {},
   "source": [
    "# Analysis and Sampling of Molecular Simulations by adversarial Autoencoders\n",
    "---\n",
    "1. [Packages import](#1.-Packages-import)\n",
    "2. [Internal coordinates computation](#2.-Internal-coordinates-computation)\n",
    "3. [Execution & visualization](#3.-Execution-&-visualization)"
   ]
  },
  {
   "cell_type": "markdown",
   "id": "63851896",
   "metadata": {},
   "source": [
    "## 1. Packages import"
   ]
  },
  {
   "cell_type": "code",
   "execution_count": null,
   "id": "7ab225df",
   "metadata": {},
   "outputs": [],
   "source": [
    "# Import packages\n",
    "\n",
    "from keras.layers import Input, Dense, Reshape, Flatten\n",
    "from keras.layers import BatchNormalization\n",
    "from keras.layers.advanced_activations import LeakyReLU\n",
    "from keras.models import Sequential, Model\n",
    "from keras import backend as kb\n",
    "import keras as krs\n",
    "\n",
    "from scipy.stats import multivariate_normal, gaussian_kde\n",
    "from tensorflow.keras.optimizers import Adam\n",
    "from mpl_toolkits.mplot3d import Axes3D\n",
    "import matplotlib.pyplot as plt\n",
    "from src import asmsa\n",
    "from src import gan\n",
    "import mdtraj as md\n",
    "import numpy as np"
   ]
  },
  {
   "cell_type": "code",
   "execution_count": null,
   "id": "c92df022",
   "metadata": {},
   "outputs": [],
   "source": [
    "# Define input files\n",
    "%cd ~\n",
    "\n",
    "# input conformation\n",
    "conf = \"alaninedipeptide_H.pdb\"\n",
    "\n",
    "# input trajectory\n",
    "traj = \"alaninedipeptide_reduced.xtc\"\n",
    "\n",
    "# input topology\n",
    "topol = \"topol.top\""
   ]
  },
  {
   "cell_type": "markdown",
   "id": "dad8a742",
   "metadata": {},
   "source": [
    "## 2. Internal coordinates computation"
   ]
  },
  {
   "cell_type": "code",
   "execution_count": null,
   "id": "e7db862f",
   "metadata": {},
   "outputs": [],
   "source": [
    "tr = md.load(traj,top=conf)\n",
    "geom = np.moveaxis(tr.xyz ,0,-1)"
   ]
  },
  {
   "cell_type": "code",
   "execution_count": null,
   "id": "9ad76050",
   "metadata": {},
   "outputs": [],
   "source": [
    "# Define sparse and dense feture extensions of IC\n",
    "density = 2 # integer in [1, n_atoms-1]\n",
    "sparse_dists = asmsa.NBDistancesSparse(geom.shape[0], density=density)\n",
    "dense_dists = asmsa.NBDistancesDense(geom.shape[0])\n",
    "\n",
    "# mol = asmsa.Molecule(conf,topol)\n",
    "mol = asmsa.Molecule(conf,topol,fms=[sparse_dists])"
   ]
  },
  {
   "cell_type": "code",
   "execution_count": null,
   "id": "b2082fb1",
   "metadata": {},
   "outputs": [],
   "source": [
    "X_train = mol.intcoord(geom).T\n",
    "X_train.shape"
   ]
  },
  {
   "cell_type": "markdown",
   "id": "17a93966",
   "metadata": {},
   "source": [
    "## 3. Execution & visualization"
   ]
  },
  {
   "cell_type": "code",
   "execution_count": null,
   "id": "ccfac7d2",
   "metadata": {},
   "outputs": [],
   "source": [
    "# Execute\n",
    "\n",
    "if __name__ == '__main__':\n",
    "    gan = gan.GAN(X_train, 'lows.txt')\n",
    "    \n",
    "    test = gan.train(epochs=500, batch_size=132) "
   ]
  },
  {
   "cell_type": "code",
   "execution_count": null,
   "id": "ed04dcbb",
   "metadata": {},
   "outputs": [],
   "source": [
    "# Visualization of low dimensional space\n",
    "\n",
    "# define input files\n",
    "%cd ~\n",
    "lows = np.loadtxt('lows.txt')\n",
    "\n",
    "%cd visualization\n",
    "rama_ala = np.loadtxt('rama_ala_reduced.txt', usecols=(0,1))\n",
    "angever1 = np.loadtxt('angever1.txt')\n",
    "angever2 = np.loadtxt('angever2.txt')\n",
    "angever3 = np.loadtxt('angever3.txt')\n",
    "\n",
    "\n",
    "cvs = (lows[:, 0], lows[:, 1])\n",
    "analysis_files = {\n",
    "    'rama0' : rama_ala[:, 0],\n",
    "    'rama1' : rama_ala[:, 1],\n",
    "    'ang1' : angever1[:, 1],\n",
    "    'ang2' : angever2[:, 1],\n",
    "    'ang3' : angever3[:, 1]\n",
    "}\n",
    "\n",
    "# set limits\n",
    "xmin, xmax = min(cvs[0]), max(cvs[0])\n",
    "ymin, ymax = min(cvs[1]), max(cvs[1])\n",
    "\n",
    "# plot configuration\n",
    "plt.suptitle('Low Dimentional Space - Analysis')\n",
    "plt.style.use(\"seaborn-white\")\n",
    "fig = plt.figure(figsize=(18, 10))\n",
    "fig.supxlabel('CV1', x=0.5, fontsize=16, fontweight='bold')\n",
    "fig.supylabel('CV2', x=0.1, fontsize=16, fontweight='bold')\n",
    "\n",
    "# plot first graph\n",
    "X, Y = np.mgrid[xmin:xmax:100j, ymin:ymax:100j]\n",
    "positions = np.vstack([X.ravel(), Y.ravel()])\n",
    "pos = np.empty(X.shape + (2,))\n",
    "pos[:, :, 0] = X; pos[:, :, 1] = Y\n",
    "values = np.vstack([cvs[0], cvs[1]])\n",
    "kernel = gaussian_kde(values)\n",
    "dens = np.reshape(kernel(positions).T, X.shape)\n",
    "ax1 = plt.subplot(2, 3, 1)\n",
    "ax1.set_xticks([])\n",
    "plt.imshow(np.rot90(dens), cmap=\"hsv\", aspect=\"auto\", extent=[xmin, xmax, ymin, ymax])\n",
    "\n",
    "\n",
    "# plot every other graph\n",
    "i = 2\n",
    "for name, data in analysis_files.items():\n",
    "    ax = plt.subplot(2, 3, i)\n",
    "    ax.set_xlim([xmin, xmax])\n",
    "    ax.set_ylim([ymin, ymax])\n",
    "    ax.set_title(name)\n",
    "    if i in [2,3,5,6]:\n",
    "        ax.set_yticks([])\n",
    "    if i in [2,3]:\n",
    "        ax.set_xticks([])\n",
    "    plt.scatter(cvs[0], cvs[1], s=1, c=data, cmap=\"hsv\")\n",
    "    i += 1\n",
    "\n",
    "    \n",
    "# you can view .png output in visualization folder\n",
    "plt.savefig('analysis.png')"
   ]
  },
  {
   "cell_type": "code",
   "execution_count": null,
   "id": "791202ef",
   "metadata": {},
   "outputs": [],
   "source": []
  }
 ],
 "metadata": {
  "kernelspec": {
   "display_name": "Python 3 (ipykernel)",
   "language": "python",
   "name": "python3"
  },
  "language_info": {
   "codemirror_mode": {
    "name": "ipython",
    "version": 3
   },
   "file_extension": ".py",
   "mimetype": "text/x-python",
   "name": "python",
   "nbconvert_exporter": "python",
   "pygments_lexer": "ipython3",
   "version": "3.8.10"
  }
 },
 "nbformat": 4,
 "nbformat_minor": 5
}
