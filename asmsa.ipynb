{
 "cells": [
  {
   "cell_type": "markdown",
   "id": "9bb416be",
   "metadata": {},
   "source": [
    "# Analysis and Sampling of Molecular Simulations by adversarial Autoencoders\n",
    "---\n",
    "1. [Packages import](#1.-Packages-import)\n",
    "2. [Internal coordinates computation](#2.-Internal-coordinates-computation)\n",
    "3. [Execution & visualization](#3.-Execution-&-visualization)"
   ]
  },
  {
   "cell_type": "markdown",
   "id": "b5ea99cd",
   "metadata": {},
   "source": [
    "## 1. Packages import"
   ]
  },
  {
   "cell_type": "code",
   "execution_count": null,
   "id": "6fd939e1",
   "metadata": {},
   "outputs": [],
   "source": [
    "# Import packages\n",
    "\n",
    "from scipy.stats import gaussian_kde\n",
    "import matplotlib.pyplot as plt\n",
    "from src import asmsa\n",
    "from src.gan import GAN\n",
    "from src.visualizer import GAN_visualizer\n",
    "import mdtraj as md\n",
    "import numpy as np\n",
    "import nglview as nv"
   ]
  },
  {
   "cell_type": "code",
   "execution_count": null,
   "id": "6dd3ad77",
   "metadata": {},
   "outputs": [],
   "source": [
    "# Define input files\n",
    "%cd ~\n",
    "\n",
    "# input conformation\n",
    "#conf = \"alaninedipeptide_H.pdb\"\n",
    "conf = \"trpcage_correct.pdb\"\n",
    "\n",
    "# input trajectory\n",
    "# atom numbering must be consistent with {conf}\n",
    "\n",
    "#traj = \"alaninedipeptide_reduced.xtc\"\n",
    "traj = \"trpcage_red.xtc\"\n",
    "\n",
    "# input topology\n",
    "# expected to be produced with \n",
    "#    gmx pdb2gmx -f {conf} -p {topol} -n {index} \n",
    "\n",
    "# Gromacs changes atom numbering, the index file must be generated and used as well\n",
    "\n",
    "#topol = \"topol.top\"\n",
    "topol = \"topol_correct.top\"\n",
    "index = 'index_correct.ndx'"
   ]
  },
  {
   "cell_type": "markdown",
   "id": "f97b919c",
   "metadata": {},
   "source": [
    "## 2. Internal coordinates computation"
   ]
  },
  {
   "cell_type": "code",
   "execution_count": null,
   "id": "063507c6",
   "metadata": {},
   "outputs": [],
   "source": [
    "tr = md.load(traj,top=conf)\n",
    "idx=tr[0].top.select(\"name CA\")\n",
    "#idx=tr[0].top.select(\"element != H\")\n",
    "tr.superpose(tr[0],atom_indices=idx)\n",
    "geom = np.moveaxis(tr.xyz ,0,-1)"
   ]
  },
  {
   "cell_type": "code",
   "execution_count": null,
   "id": "9727bef3",
   "metadata": {},
   "outputs": [],
   "source": [
    "v = nv.show_mdtraj(tr)\n",
    "v.clear()\n",
    "v.add_representation(\"licorice\")\n",
    "v"
   ]
  },
  {
   "cell_type": "code",
   "execution_count": null,
   "id": "f05c528b",
   "metadata": {},
   "outputs": [],
   "source": [
    "geom.shape"
   ]
  },
  {
   "cell_type": "code",
   "execution_count": null,
   "id": "22985648",
   "metadata": {},
   "outputs": [],
   "source": [
    "# Define sparse and dense feture extensions of IC\n",
    "density = 2 # integer in [1, n_atoms-1]\n",
    "sparse_dists = asmsa.NBDistancesSparse(geom.shape[0], density=density)\n",
    "dense_dists = asmsa.NBDistancesDense(geom.shape[0])\n",
    "\n",
    "# mol = asmsa.Molecule(conf,topol)\n",
    "# mol = asmsa.Molecule(conf,topol,fms=[sparse_dists])\n",
    "mol = asmsa.Molecule(pdb=conf,top=topol,ndx=index,fms=[sparse_dists])"
   ]
  },
  {
   "cell_type": "code",
   "execution_count": null,
   "id": "9eae68e5",
   "metadata": {},
   "outputs": [],
   "source": [
    "X_train = mol.intcoord(geom).T\n",
    "X_train.shape"
   ]
  },
  {
   "cell_type": "markdown",
   "id": "94e30d20",
   "metadata": {},
   "source": [
    "## 3. Set visualizer"
   ]
  },
  {
   "cell_type": "code",
   "execution_count": null,
   "id": "c49b4da3",
   "metadata": {},
   "outputs": [],
   "source": [
    "visualizer = GAN_visualizer(\n",
    "                    nbins=50,\n",
    "                    visualize_freq=10,\n",
    "#                     analysis_files=['visualization/rama_ala_reduced0.txt',\n",
    "#                                     'visualization/rama_ala_reduced1.txt',\n",
    "#                                     'visualization/angever0.txt',\n",
    "#                                     'visualization/angever1.txt',\n",
    "#                                     'visualization/angever2.txt'],\n",
    "                    figsize=(15,5),\n",
    "                    cmap='hsv'\n",
    "                )"
   ]
  },
  {
   "cell_type": "markdown",
   "id": "31dd9369",
   "metadata": {},
   "source": [
    "## 4. Test various batch sizes"
   ]
  },
  {
   "cell_type": "code",
   "execution_count": null,
   "id": "032c5e77",
   "metadata": {},
   "outputs": [],
   "source": [
    "# Execute\n",
    "output_file = 'lows.txt'\n",
    "\n",
    "gan = GAN(X_train)\n",
    "test = gan.train(epochs=3, out_file='lows.txt', batch_size=132, visualizer=visualizer) "
   ]
  },
  {
   "cell_type": "code",
   "execution_count": null,
   "id": "c5d079f7",
   "metadata": {},
   "outputs": [],
   "source": [
    "# convergence seems to be similar\n",
    "gan2 = GAN(X_train)\n",
    "test2 = gan2.train(epochs=50, out_file='lows.txt', batch_size=50, visualizer=visualizer) "
   ]
  },
  {
   "cell_type": "code",
   "execution_count": null,
   "id": "69532cda",
   "metadata": {},
   "outputs": [],
   "source": [
    "# too big batch size, seems not to converge anymore\n",
    "gan3 = GAN(X_train)\n",
    "test3 = gan3.train(epochs=50, out_file='lows.txt', batch_size=500, visualizer=visualizer) "
   ]
  },
  {
   "cell_type": "code",
   "execution_count": null,
   "id": "97b9e596",
   "metadata": {},
   "outputs": [],
   "source": [
    "# sort of optimal for Ala-Ala\n",
    "gan4 = GAN(X_train)\n",
    "test4 = gan4.train(epochs=50, out_file='lows.txt', batch_size=256, visualizer=visualizer) "
   ]
  },
  {
   "cell_type": "markdown",
   "id": "d224d699",
   "metadata": {},
   "source": [
    "## 5. Test various types of layers"
   ]
  },
  {
   "cell_type": "code",
   "execution_count": null,
   "id": "d99be1a9",
   "metadata": {},
   "outputs": [],
   "source": [
    "# build & run default gan (already ran above)\n",
    "gan = GAN(X_train)\n",
    "test5 = gan.train(epochs=50, out_file='lows.txt', batch_size=256, visualizer=visualizer) "
   ]
  },
  {
   "cell_type": "code",
   "execution_count": null,
   "id": "373becbb",
   "metadata": {},
   "outputs": [],
   "source": [
    "# set encoder with relu layers, also build the inverse decoder (with the same activation functions)\n",
    "gan.set_encoder(params=[(\"relu\", 32),\n",
    "                        (\"relu\", 16),\n",
    "                        (\"relu\", 8),\n",
    "                        (\"linear\", None)], build_decoder=True)\n",
    "\n",
    "test6 = gan.train(epochs=50, out_file='lows.txt', batch_size=256, visualizer=visualizer) "
   ]
  },
  {
   "cell_type": "code",
   "execution_count": null,
   "id": "aaff1fbf",
   "metadata": {},
   "outputs": [],
   "source": [
    "# build encoder with relu layers and decoder with selu layers\n",
    "gan.set_encoder(params=[(\"relu\", 32),\n",
    "                        (\"relu\", 16),\n",
    "                        (\"relu\", 8),\n",
    "                        (\"linear\", None)])\n",
    "\n",
    "gan.set_decoder(params=[(\"selu\", 8),\n",
    "                        (\"selu\", 16),\n",
    "                        (\"selu\", 32),\n",
    "                        (\"linear\", None)])\n",
    "\n",
    "test7 = gan.train(epochs=50, out_file='lows.txt', batch_size=256, visualizer=visualizer) "
   ]
  },
  {
   "cell_type": "code",
   "execution_count": null,
   "id": "2571a55a",
   "metadata": {},
   "outputs": [],
   "source": [
    "# set discriminator with no activation functions \n",
    "gan.set_discriminator(params=[(None, 64),\n",
    "                              (None, 16),\n",
    "                              (None, 4),\n",
    "                              (None, 1)])\n",
    "\n",
    "test8 = gan.train(epochs=50, out_file='lows.txt', batch_size=256, visualizer=visualizer) "
   ]
  },
  {
   "cell_type": "markdown",
   "id": "65aeb47a",
   "metadata": {},
   "source": [
    "## 6. Specification of prior distribution"
   ]
  },
  {
   "cell_type": "code",
   "execution_count": null,
   "id": "2edbebce",
   "metadata": {},
   "outputs": [],
   "source": [
    "# run with default prior which is normal \n",
    "gan = GAN(X_train)\n",
    "test9 = gan.train(epochs=50, out_file='lows.txt', batch_size=256, visualizer=visualizer)"
   ]
  },
  {
   "cell_type": "code",
   "execution_count": null,
   "id": "2f8dad1a",
   "metadata": {},
   "outputs": [],
   "source": [
    "# run with uniform prior distribution\n",
    "gan = GAN(X_train, prior='uniform')\n",
    "test9 = gan.train(epochs=50, out_file='lows.txt', batch_size=256, visualizer=visualizer)"
   ]
  },
  {
   "cell_type": "markdown",
   "id": "d831c4af",
   "metadata": {},
   "source": [
    "## 7. Set early stop"
   ]
  },
  {
   "cell_type": "code",
   "execution_count": null,
   "id": "e5942cc1",
   "metadata": {},
   "outputs": [],
   "source": [
    "# ae_estop (autoencoder early stop) is not triggered by default\n",
    "# runs early stop for autoencoder with default parameters\n",
    "test10 = gan.train(epochs=50, out_file='lows.txt', batch_size=256, visualizer=visualizer, ae_estop=True)"
   ]
  },
  {
   "cell_type": "code",
   "execution_count": null,
   "id": "10829fe5",
   "metadata": {},
   "outputs": [],
   "source": [
    "# exactly the same for discriminator early stopping\n",
    "test10 = gan.train(epochs=50, out_file='lows.txt', batch_size=256, visualizer=visualizer, d_estop=True)\n",
    "\n",
    "# can use both at the same time\n",
    "test10 = gan.train(epochs=50, out_file='lows.txt', batch_size=256, visualizer=visualizer, ae_estop=True, d_estop=True)"
   ]
  },
  {
   "cell_type": "code",
   "execution_count": null,
   "id": "f8e92efb",
   "metadata": {},
   "outputs": [],
   "source": [
    "# user can customise own early stop callback\n",
    "from keras.callbacks import EarlyStopping\n",
    "ae_stop_callback = EarlyStopping(monitor=monitor,\n",
    "                                 patience=4,\n",
    "                                 verbose=1,\n",
    "                                 mode='min')\n",
    "\n",
    "test10 = gan.train(epochs=50, out_file='lows.txt', batch_size=256, visualizer=visualizer, ae_estop=ae_stop_callback)"
   ]
  },
  {
   "cell_type": "markdown",
   "id": "d0b81c8e",
   "metadata": {},
   "source": [
    "## 8. Visualization of the final result"
   ]
  },
  {
   "cell_type": "code",
   "execution_count": null,
   "id": "e69c5a8d",
   "metadata": {},
   "outputs": [],
   "source": [
    "# Visualization of low dimensional space\n",
    "\n",
    "# define input files\n",
    "%cd ~\n",
    "lows = np.loadtxt(output_file)\n",
    "\n",
    "%cd visualization\n",
    "rama_ala = np.loadtxt('rama_ala_reduced.txt', usecols=(0,1))\n",
    "angever1 = np.loadtxt('angever1.txt')\n",
    "angever2 = np.loadtxt('angever2.txt')\n",
    "angever3 = np.loadtxt('angever3.txt')\n",
    "\n",
    "\n",
    "cvs = (lows[:, 0], lows[:, 1])\n",
    "analysis_files = {\n",
    "    'rama0' : rama_ala[:, 0],\n",
    "    'rama1' : rama_ala[:, 1],\n",
    "    'ang1' : angever1[:, 1],\n",
    "    'ang2' : angever2[:, 1],\n",
    "    'ang3' : angever3[:, 1]\n",
    "}\n",
    "\n",
    "# set limits\n",
    "xmin, xmax = min(cvs[0]), max(cvs[0])\n",
    "ymin, ymax = min(cvs[1]), max(cvs[1])\n",
    "\n",
    "# plot configuration\n",
    "plt.suptitle('Low Dimentional Space - Analysis')\n",
    "plt.style.use(\"seaborn-white\")\n",
    "fig = plt.figure(figsize=(18, 10))\n",
    "fig.supxlabel('CV1', x=0.5, fontsize=16, fontweight='bold')\n",
    "fig.supylabel('CV2', x=0.1, fontsize=16, fontweight='bold')\n",
    "\n",
    "# plot first graph\n",
    "X, Y = np.mgrid[xmin:xmax:100j, ymin:ymax:100j]\n",
    "positions = np.vstack([X.ravel(), Y.ravel()])\n",
    "pos = np.empty(X.shape + (2,))\n",
    "pos[:, :, 0] = X; pos[:, :, 1] = Y\n",
    "values = np.vstack([cvs[0], cvs[1]])\n",
    "kernel = gaussian_kde(values)\n",
    "dens = np.reshape(kernel(positions).T, X.shape)\n",
    "ax1 = plt.subplot(2, 3, 1)\n",
    "ax1.set_xticks([])\n",
    "plt.imshow(np.rot90(dens), cmap=\"hsv\", aspect=\"auto\", extent=[xmin, xmax, ymin, ymax])\n",
    "\n",
    "\n",
    "# plot every other graph\n",
    "i = 2\n",
    "for name, data in analysis_files.items():\n",
    "    ax = plt.subplot(2, 3, i)\n",
    "    ax.set_xlim([xmin, xmax])\n",
    "    ax.set_ylim([ymin, ymax])\n",
    "    ax.set_title(name)\n",
    "    if i in [2,3,5,6]:\n",
    "        ax.set_yticks([])\n",
    "    if i in [2,3]:\n",
    "        ax.set_xticks([])\n",
    "    plt.scatter(cvs[0], cvs[1], s=1, c=data, cmap=\"hsv\")\n",
    "    i += 1\n",
    "\n",
    "    \n",
    "# you can view .png output in visualization folder\n",
    "plt.savefig('analysis.png')"
   ]
  },
  {
   "cell_type": "code",
   "execution_count": null,
   "id": "d6bcac11",
   "metadata": {},
   "outputs": [],
   "source": [
    "# Rgyr color coded in low dim (rough view)\n",
    "\n",
    "lows = np.loadtxt(output_file)\n",
    "rg = md.compute_rg(tr)\n",
    "cmap = plt.get_cmap('rainbow')\n",
    "plt.figure(figsize=(12,12))\n",
    "plt.scatter(lows[:,0],lows[:,1],marker='.',c=rg,cmap=cmap)\n",
    "plt.colorbar(cmap=cmap)\n",
    "plt.show()"
   ]
  },
  {
   "cell_type": "code",
   "execution_count": null,
   "id": "0e01e7eb",
   "metadata": {},
   "outputs": [],
   "source": []
  }
 ],
 "metadata": {
  "kernelspec": {
   "display_name": "Python 3 (ipykernel)",
   "language": "python",
   "name": "python3"
  },
  "language_info": {
   "codemirror_mode": {
    "name": "ipython",
    "version": 3
   },
   "file_extension": ".py",
   "mimetype": "text/x-python",
   "name": "python",
   "nbconvert_exporter": "python",
   "pygments_lexer": "ipython3",
   "version": "3.8.10"
  }
 },
 "nbformat": 4,
 "nbformat_minor": 5
}
