{
 "cells": [
  {
   "cell_type": "markdown",
   "id": "5f27cc21",
   "metadata": {},
   "source": [
    "# Analysis and Sampling of Molecular Simulations by adversarial Autoencoders\n",
    "---\n",
    "1. [Packages import](#1.-Packages-import)\n",
    "2. [Internal coordinates computation](#2.-Internal-coordinates-computation)\n",
    "3. [Execution & visualization](#3.-Execution-&-visualization)"
   ]
  },
  {
   "cell_type": "markdown",
   "id": "48e30a7a",
   "metadata": {},
   "source": [
    "## 1. Packages import"
   ]
  },
  {
   "cell_type": "code",
   "execution_count": null,
   "id": "07027888",
   "metadata": {},
   "outputs": [],
   "source": [
    "# Import packages\n",
    "\n",
    "from scipy.stats import gaussian_kde\n",
    "import matplotlib.pyplot as plt\n",
    "from src import asmsa\n",
    "from src.gan import GAN\n",
    "from src.visualizer import GAN_visualizer\n",
    "import mdtraj as md\n",
    "import numpy as np\n",
    "import nglview as nv\n",
    "import urllib.request"
   ]
  },
  {
   "cell_type": "code",
   "execution_count": null,
   "id": "55115b7b",
   "metadata": {},
   "outputs": [],
   "source": [
    "# Define input files\n",
    "%cd ~\n",
    "\n",
    "# input conformation\n",
    "#conf = \"alaninedipeptide_H.pdb\"\n",
    "conf = \"trpcage_correct.pdb\"\n",
    "\n",
    "# input trajectory\n",
    "# atom numbering must be consistent with {conf}\n",
    "\n",
    "#traj = \"alaninedipeptide_reduced.xtc\"\n",
    "traj = \"trpcage_red.xtc\"\n",
    "\n",
    "# input topology\n",
    "# expected to be produced with \n",
    "#    gmx pdb2gmx -f {conf} -p {topol} -n {index} \n",
    "\n",
    "# Gromacs changes atom numbering, the index file must be generated and used as well\n",
    "\n",
    "#topol = \"topol.top\"\n",
    "topol = \"topol_correct.top\"\n",
    "index = 'index_correct.ndx'"
   ]
  },
  {
   "cell_type": "markdown",
   "id": "4219f808",
   "metadata": {},
   "source": [
    "## 2. Internal coordinates computation"
   ]
  },
  {
   "cell_type": "code",
   "execution_count": null,
   "id": "4112461c",
   "metadata": {},
   "outputs": [],
   "source": [
    "tr = md.load(traj,top=conf)\n",
    "idx=tr[0].top.select(\"name CA\")\n",
    "#idx=tr[0].top.select(\"element != H\")\n",
    "tr.superpose(tr[0],atom_indices=idx)\n",
    "geom = np.moveaxis(tr.xyz ,0,-1)"
   ]
  },
  {
   "cell_type": "code",
   "execution_count": null,
   "id": "458e84ca",
   "metadata": {},
   "outputs": [],
   "source": [
    "v = nv.show_mdtraj(tr)\n",
    "v.clear()\n",
    "v.add_representation(\"licorice\")\n",
    "v"
   ]
  },
  {
   "cell_type": "code",
   "execution_count": null,
   "id": "89e05920",
   "metadata": {},
   "outputs": [],
   "source": [
    "geom.shape"
   ]
  },
  {
   "cell_type": "code",
   "execution_count": null,
   "id": "dd4234f3",
   "metadata": {},
   "outputs": [],
   "source": [
    "# Define sparse and dense feture extensions of IC\n",
    "density = 2 # integer in [1, n_atoms-1]\n",
    "sparse_dists = asmsa.NBDistancesSparse(geom.shape[0], density=density)\n",
    "dense_dists = asmsa.NBDistancesDense(geom.shape[0])\n",
    "\n",
    "# mol = asmsa.Molecule(conf,topol)\n",
    "# mol = asmsa.Molecule(conf,topol,fms=[sparse_dists])\n",
    "mol = asmsa.Molecule(pdb=conf,top=topol,ndx=index,fms=[sparse_dists])"
   ]
  },
  {
   "cell_type": "code",
   "execution_count": null,
   "id": "4402d98f",
   "metadata": {},
   "outputs": [],
   "source": [
    "X_train = mol.intcoord(geom).T\n",
    "X_train.shape"
   ]
  },
  {
   "cell_type": "markdown",
   "id": "67a1973e",
   "metadata": {},
   "source": [
    "## 3. Set visualizer"
   ]
  },
  {
   "cell_type": "code",
   "execution_count": null,
   "id": "91dbb8a5",
   "metadata": {},
   "outputs": [],
   "source": [
    "visualizer = GAN_visualizer(\n",
    "                    nbins=50,\n",
    "                    visualize_freq=10,\n",
    "#                     analysis_files=['visualization/rama_ala_reduced0.txt',\n",
    "#                                     'visualization/rama_ala_reduced1.txt',\n",
    "#                                     'visualization/angever0.txt',\n",
    "#                                     'visualization/angever1.txt',\n",
    "#                                     'visualization/angever2.txt'],\n",
    "                    figsize=(15,5),\n",
    "                    cmap='hsv'\n",
    "                )"
   ]
  },
  {
   "cell_type": "code",
   "execution_count": null,
   "id": "1d483fdb",
   "metadata": {},
   "outputs": [],
   "source": [
    "# download mushroom image as prior\n",
    "urllib.request.urlretrieve(\"https://drive.google.com/uc?export=download&id=1I2WP92MMWS5s5vin_4cvmruuV-1W77Hl\", \"mushroom_bw.png\")"
   ]
  },
  {
   "cell_type": "code",
   "execution_count": null,
   "id": "a6f66051",
   "metadata": {},
   "outputs": [],
   "source": [
    "output_file = 'lows.txt'\n",
    "\n",
    "gan = GAN(X_train,batch_size=256,prior='mushroom_bw.png')\n",
    "test = gan.train(epochs=50, out_file=output_file, visualizer=visualizer) "
   ]
  },
  {
   "cell_type": "code",
   "execution_count": null,
   "id": "5af2c1fa",
   "metadata": {},
   "outputs": [],
   "source": [
    "visualizer = GAN_visualizer(\n",
    "                    lows='lows.txt',\n",
    "                    nbins=50,\n",
    "                    figsize=(15,5),\n",
    "                )"
   ]
  },
  {
   "cell_type": "code",
   "execution_count": null,
   "id": "cd15b78a",
   "metadata": {},
   "outputs": [],
   "source": [
    "visualizer.make_visualization()"
   ]
  },
  {
   "cell_type": "code",
   "execution_count": null,
   "id": "db371f3f",
   "metadata": {},
   "outputs": [],
   "source": [
    "# Rgyr color coded in low dim (rough view)\n",
    "\n",
    "lows = np.loadtxt(output_file)\n",
    "rg = md.compute_rg(tr)\n",
    "cmap = plt.get_cmap('rainbow')\n",
    "plt.figure(figsize=(12,12))\n",
    "plt.scatter(lows[:,0],lows[:,1],marker='.',c=rg,cmap=cmap)\n",
    "plt.colorbar(cmap=cmap)\n",
    "plt.show()"
   ]
  }
 ],
 "metadata": {
  "kernelspec": {
   "display_name": "Python 3 (ipykernel)",
   "language": "python",
   "name": "python3"
  },
  "language_info": {
   "codemirror_mode": {
    "name": "ipython",
    "version": 3
   },
   "file_extension": ".py",
   "mimetype": "text/x-python",
   "name": "python",
   "nbconvert_exporter": "python",
   "pygments_lexer": "ipython3",
   "version": "3.8.10"
  }
 },
 "nbformat": 4,
 "nbformat_minor": 5
}
