{
 "cells": [
  {
   "cell_type": "markdown",
   "id": "e010668c-c7e3-4e1b-8491-72b0db91b5e1",
   "metadata": {},
   "source": [
    "# ASMSA: Rum molecular dynamics with CV derived AAE model\n",
    "\n",
    "**Previous steps**\n",
    "- [prepare.ipynb](prepare.ipynb): Download and sanity check input files\n",
    "- [train.ipynb](train.ipynb): Use results of previous tuning in more thorough training|\n",
    "- [tune.ipynb](tune.ipynb): Perform initial hyperparameter tuning for this molecule\n",
    "\n"
   ]
  },
  {
   "cell_type": "code",
   "execution_count": null,
   "id": "abf8df38-2c34-4787-b9fc-e15f17440ea7",
   "metadata": {},
   "outputs": [],
   "source": [
    "import asmsa\n",
    "import os\n",
    "import re\n",
    "import numpy as np\n",
    "import matplotlib.pyplot as plt"
   ]
  },
  {
   "cell_type": "code",
   "execution_count": null,
   "id": "b83e9d7f-d626-406c-b419-146e94338711",
   "metadata": {},
   "outputs": [],
   "source": [
    "# unlike previous notebooks, we use the initial PDB only\n",
    "\n",
    "pdb = \"trpcage_correct.pdb\"\n",
    "base = \"trpcage\""
   ]
  },
  {
   "cell_type": "code",
   "execution_count": null,
   "id": "578052dd-5d90-4d05-910f-2461c820c488",
   "metadata": {},
   "outputs": [],
   "source": [
    "# Kubernetes magics, find out volume name\n",
    "\n",
    "mnt=os.popen('mount | grep /home/jovyan').read()\n",
    "pvcid=re.search('pvc-[0-9a-z-]+',mnt).group(0)\n",
    "pvc=os.popen(f'kubectl get pvc | grep {pvcid} | cut -f1 -d\" \"').read().rstrip()\n",
    "pvc"
   ]
  },
  {
   "cell_type": "code",
   "execution_count": null,
   "id": "0c2c379d-c117-4c77-ba95-2666e0fd1310",
   "metadata": {},
   "outputs": [],
   "source": [
    "# Python wrapper to Kubernetes calls to gromacs \n",
    "\n",
    "gmx = asmsa.GMX(pvc=pvc)"
   ]
  },
  {
   "cell_type": "code",
   "execution_count": null,
   "id": "bfdcf850-6185-4944-9cc8-1ec9af6c5691",
   "metadata": {},
   "outputs": [],
   "source": [
    "# Create a Gromacs job in Kubernetes, and run the \"pdb2gmx\" command in it\n",
    "# wait for job completition and delete it immediately (not the results :-))\n",
    "\n",
    "gmx.start(f\"pdb2gmx -f {pdb} -o {base}.gro -p {base}.top -water tip3p -ff amber94\",wait=True,delete=True)"
   ]
  },
  {
   "cell_type": "code",
   "execution_count": null,
   "id": "92fbf537-c055-4676-8ae7-eca3d2011369",
   "metadata": {},
   "outputs": [],
   "source": [
    "# Dodecahedron box of suitable size (adjust eventually)\n",
    "\n",
    "mdbox=2.0\n",
    "gmx.start(f\"editconf -f {base}.gro -o {base}-box.gro -c -d {mdbox} -bt dodecahedron\",wait=True,delete=True)"
   ]
  },
  {
   "cell_type": "code",
   "execution_count": null,
   "id": "959f7d2a-29d7-440a-b499-7163eb22f0c6",
   "metadata": {},
   "outputs": [],
   "source": [
    "# Solvate\n",
    "\n",
    "gmx.start(f\"solvate -cp {base}-box.gro -cs spc216.gro -o {base}-solv.gro -p {base}.top\",wait=True,delete=True)"
   ]
  },
  {
   "cell_type": "code",
   "execution_count": null,
   "id": "22bcf6be-127d-43a0-bbf3-3a809b76c8f9",
   "metadata": {},
   "outputs": [],
   "source": [
    "# Add ions\n",
    "\n",
    "gmx.start(f\"grompp -f ions.mdp -c {base}-solv.gro -p {base}.top -o ions.tpr\",wait=True,delete=True)"
   ]
  },
  {
   "cell_type": "code",
   "execution_count": null,
   "id": "3bf326ec-13fe-4ade-809d-9b9d5147a0e6",
   "metadata": {},
   "outputs": [],
   "source": [
    "gmx.start(f\"genion -s ions.tpr -o {base}-ions.gro -p {base}.top -pname NA -nname CL -neutral\",input=\"13\",wait=True,delete=True)"
   ]
  },
  {
   "cell_type": "code",
   "execution_count": null,
   "id": "a317e83a-f032-4fa2-93b5-0d68dfb8b341",
   "metadata": {},
   "outputs": [],
   "source": [
    "# Energy minimization\n",
    "\n",
    "gmx.start(f\"grompp -f minim-sol.mdp -c {base}-ions.gro -p {base}.top -o em.tpr\",wait=True,delete=True)"
   ]
  },
  {
   "cell_type": "code",
   "execution_count": null,
   "id": "34cc303b-7354-4be0-88ad-691ef6faaf75",
   "metadata": {},
   "outputs": [],
   "source": [
    "# This job may run a bit longer, start it in background, with more cores and GPU\n",
    "\n",
    "gmx.start(f\"mdrun -v -deffnm em -pin on\",cores=4,gpus=1)"
   ]
  },
  {
   "cell_type": "code",
   "execution_count": null,
   "id": "258ce994-f453-4c8a-a655-87ab252bb305",
   "metadata": {},
   "outputs": [],
   "source": [
    "# Peek the last 15 lines of output, may be called repeatedly\n",
    "\n",
    "gmx.log(tail=15)"
   ]
  },
  {
   "cell_type": "code",
   "execution_count": null,
   "id": "56e2214d-698d-407b-b399-992e51961259",
   "metadata": {},
   "outputs": [],
   "source": [
    "# Delete the job when completed\n",
    "\n",
    "gmx.delete()"
   ]
  },
  {
   "cell_type": "code",
   "execution_count": null,
   "id": "1317b147-8b0f-4d9f-9a36-70ad3389e6e4",
   "metadata": {},
   "outputs": [],
   "source": [
    "# Isothermal-isochoric equilibration, following the same job pattern\n",
    "\n",
    "gmx.start(f\"grompp -f nvt.mdp -c em.gro -r em.gro -p {base}.top -o nvt.tpr\",wait=True,delete=True)"
   ]
  },
  {
   "cell_type": "code",
   "execution_count": null,
   "id": "75563888-c51e-4450-b5f1-cadd7eda5eb3",
   "metadata": {},
   "outputs": [],
   "source": [
    "gmx.start(f\"mdrun -pin on -deffnm nvt\",cores=4,gpus=1)"
   ]
  },
  {
   "cell_type": "code",
   "execution_count": null,
   "id": "d79a797b-bbf5-4d87-89a7-910f17a83087",
   "metadata": {},
   "outputs": [],
   "source": [
    "gmx.log(tail=15)"
   ]
  },
  {
   "cell_type": "code",
   "execution_count": null,
   "id": "7b6f578f-ffed-4a5d-9669-b1a4f38bfbe7",
   "metadata": {},
   "outputs": [],
   "source": [
    "gmx.delete()"
   ]
  },
  {
   "cell_type": "code",
   "execution_count": null,
   "id": "4dd09e4b-5595-4d93-a561-f3041f603bfb",
   "metadata": {},
   "outputs": [],
   "source": [
    "# And isothermal-isobaric equilibration\n",
    "\n",
    "gmx.start(f\"grompp -f npt.mdp -c nvt.gro -r nvt.gro -t nvt.cpt -p {base}.top -o npt.tpr\",wait=True,delete=True)"
   ]
  },
  {
   "cell_type": "code",
   "execution_count": null,
   "id": "e0de4e93-247a-47e3-921f-d9104333d537",
   "metadata": {},
   "outputs": [],
   "source": [
    "gmx.start(f\"mdrun -pin on -deffnm npt\",cores=4,gpus=1)"
   ]
  },
  {
   "cell_type": "code",
   "execution_count": null,
   "id": "aa2c3fe4-1ac1-40a2-a9b3-cf9801d205c3",
   "metadata": {},
   "outputs": [],
   "source": [
    "gmx.log(tail=15)"
   ]
  },
  {
   "cell_type": "code",
   "execution_count": null,
   "id": "dd450624-da95-40e7-b8e6-2c1e5eaf52f1",
   "metadata": {},
   "outputs": [],
   "source": [
    "gmx.delete()"
   ]
  },
  {
   "cell_type": "code",
   "execution_count": null,
   "id": "aa139581-58e9-4d49-a520-a57cb04f7f57",
   "metadata": {},
   "outputs": [],
   "source": [
    "# Extract temperature, pressure and density from the trajectories and plot them\n",
    "\n",
    "gmx.start(f\"energy -f npt.edr -o press.xvg\",input=18,wait=True,delete=True)\n",
    "gmx.start(f\"energy -f npt.edr -o dens.xvg\",input=24,wait=True,delete=True)\n",
    "gmx.start(f\"energy -f npt.edr -o temp.xvg\",input=16,wait=True,delete=True)"
   ]
  },
  {
   "cell_type": "code",
   "execution_count": null,
   "id": "650c22c0-0579-4b02-ba22-5916cc301a76",
   "metadata": {},
   "outputs": [],
   "source": [
    "temp = np.loadtxt('temp.xvg',comments=['#','@'])\n",
    "press = np.loadtxt('press.xvg',comments=['#','@'])\n",
    "dens = np.loadtxt('dens.xvg',comments=['#','@'])\n",
    "\n",
    "plt.figure(figsize=(15,9))\n",
    "plt.subplot(311)\n",
    "plt.plot(press[:,0],press[:,1])\n",
    "plt.title('isothermal-isobaric equilibration')\n",
    "plt.grid()\n",
    "#plt.xlabel('time (ps)')\n",
    "plt.ylabel(\"pressure (bar)\")\n",
    "\n",
    "plt.subplot(312)\n",
    "plt.ylabel('density (kg/m3)')\n",
    "plt.grid()\n",
    "plt.plot(dens[:,0],dens[:,1])\n",
    "\n",
    "plt.subplot(313)\n",
    "plt.xlabel('time (ps)')\n",
    "plt.ylabel('temperature (K)')\n",
    "plt.grid()\n",
    "plt.plot(temp[:,0],temp[:,1])\n",
    "\n",
    "plt.show()"
   ]
  },
  {
   "cell_type": "code",
   "execution_count": null,
   "id": "19529117-aa22-4132-bf18-d090caea0f93",
   "metadata": {},
   "outputs": [],
   "source": [
    "# Now we are ready to run metadynamics with plumed.dat generated in train.ipynb\n",
    "# Checkpoints are stored, hence the simulation can be restarted if it gets killed\n",
    "\n",
    "!cp md.mdp.template md.mdp\n",
    "\n",
    "# 200 ns\n",
    "# mdsteps=100000000\n",
    "\n",
    "# 10 ns\n",
    "mdsteps=5000000\n",
    "\n",
    "with open('md.mdp','a') as mdp:\n",
    "    mdp.write(\"nsteps = %d\\n\" % mdsteps)\n",
    "\n",
    "gmx.start(f\"grompp -f md.mdp -c npt.gro -t npt.cpt -p {base}.top -o md.tpr\",wait=True,delete=True)"
   ]
  },
  {
   "cell_type": "code",
   "execution_count": null,
   "id": "d6df7af8-1733-4c4b-8319-ceb6d0b9c20e",
   "metadata": {},
   "outputs": [],
   "source": [
    "!touch HILLS\n",
    "gmx.start(f\"mdrun -pin on -deffnm md -plumed plumed.dat -cpi md.cpt -cpt 15\",cores=4,gpus=1)"
   ]
  },
  {
   "cell_type": "code",
   "execution_count": null,
   "id": "1af06def-49eb-495a-b556-b92e23e93228",
   "metadata": {},
   "outputs": [],
   "source": [
    "gmx.log(tail=15)"
   ]
  },
  {
   "cell_type": "code",
   "execution_count": null,
   "id": "fe5f09d4-c9a7-4f77-94a0-23a019d92400",
   "metadata": {},
   "outputs": [],
   "source": [
    "gmx.delete()"
   ]
  },
  {
   "cell_type": "code",
   "execution_count": null,
   "id": "e91dbaf5-b31a-4633-9a9d-38ffbb231a39",
   "metadata": {},
   "outputs": [],
   "source": []
  }
 ],
 "metadata": {
  "kernelspec": {
   "display_name": "Python 3 (ipykernel)",
   "language": "python",
   "name": "python3"
  },
  "language_info": {
   "codemirror_mode": {
    "name": "ipython",
    "version": 3
   },
   "file_extension": ".py",
   "mimetype": "text/x-python",
   "name": "python",
   "nbconvert_exporter": "python",
   "pygments_lexer": "ipython3",
   "version": "3.9.16"
  }
 },
 "nbformat": 4,
 "nbformat_minor": 5
}
